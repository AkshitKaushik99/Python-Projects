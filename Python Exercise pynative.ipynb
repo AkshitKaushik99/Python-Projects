{
 "cells": [
  {
   "cell_type": "markdown",
   "id": "d6624fff",
   "metadata": {},
   "source": [
    "# Python Basic Exercise for Beginners"
   ]
  },
  {
   "cell_type": "code",
   "execution_count": 1,
   "id": "306671d7",
   "metadata": {},
   "outputs": [
    {
     "name": "stdout",
     "output_type": "stream",
     "text": [
      "Sum of Two Numbers:  50 Multiplication of two Numbers  600\n"
     ]
    }
   ],
   "source": [
    "# Exercise 1: Calculate the multiplication and sum of two numbers\n",
    "number1 = 20\n",
    "number2 = 30\n",
    "\n",
    "Multiplication = number1*number2\n",
    "Sum = number1+number2\n",
    "print('Sum of Two Numbers: ',Sum,'Multiplication of two Numbers ', Multiplication)"
   ]
  },
  {
   "cell_type": "code",
   "execution_count": 12,
   "id": "d67f2c97",
   "metadata": {},
   "outputs": [
    {
     "name": "stdout",
     "output_type": "stream",
     "text": [
      "Enter Number5\n",
      "Current Number : 1 Previous Number : 0 sum : 1\n",
      "Current Number : 2 Previous Number : 1 sum : 3\n",
      "Current Number : 3 Previous Number : 2 sum : 5\n",
      "Current Number : 4 Previous Number : 3 sum : 7\n",
      "Current Number : 5 Previous Number : 4 sum : 9\n"
     ]
    }
   ],
   "source": [
    "# Exercise 2: Print the sum of the current number and the previous number\n",
    "privious_num = 0\n",
    "x = int(input('Enter Number'))\n",
    "for i in range(1,x+1):\n",
    "    S_num = privious_num + i\n",
    "    print('Current Number :',i,'Previous Number :', privious_num, 'sum :',S_num)\n",
    "    privious_num = i\n"
   ]
  },
  {
   "cell_type": "code",
   "execution_count": 46,
   "id": "c34e0645",
   "metadata": {},
   "outputs": [
    {
     "name": "stdout",
     "output_type": "stream",
     "text": [
      "enter string : akshit\n",
      "a\n",
      "s\n",
      "i\n",
      "enter string : akshit\n",
      "a\n",
      "s\n",
      "i\n"
     ]
    }
   ],
   "source": [
    "# Exercise 3: Print characters from a string that are present at an even index number\n",
    "x = input('enter string : ')\n",
    "for i in range(0,len(x)-1,2):\n",
    "    print(x[i])\n",
    "#method 2\n",
    "y = list(input('enter string : '))\n",
    "for i in y[::2]:\n",
    "    print(i)\n",
    "\n",
    "\n"
   ]
  },
  {
   "cell_type": "code",
   "execution_count": null,
   "id": "0d0053de",
   "metadata": {},
   "outputs": [],
   "source": [
    "# # Exercise 4: Remove first n characters from a string \n",
    "# Write a program to remove characters from a string starting from zero up to n and \n",
    "# return a new string.\n",
    "# For example:\n",
    "# remove_chars(\"pynative\", 4) so output must be tive. Here we need to remove first four\n",
    "# characters from a string.remove_chars(\"pynative\", 2) so output must be native.\n",
    "# Here we need to remove first two characters from a string."
   ]
  },
  {
   "cell_type": "code",
   "execution_count": 24,
   "id": "8345259c",
   "metadata": {},
   "outputs": [
    {
     "name": "stdout",
     "output_type": "stream",
     "text": [
      "Enter Number : 4\n",
      "Enter string : pynative\n",
      "tive\n",
      "tive\n"
     ]
    }
   ],
   "source": [
    "n = int(input('Enter Number : '))\n",
    "strr = input('Enter string : ')\n",
    "\n",
    "def remove_s (strr,n):\n",
    "        x = strr[n:]\n",
    "        return x\n",
    "print(remove_s(strr,n))\n",
    "print(remove_s(strr,n=4))\n",
    "        "
   ]
  },
  {
   "cell_type": "code",
   "execution_count": 25,
   "id": "47d7f648",
   "metadata": {},
   "outputs": [
    {
     "name": "stdout",
     "output_type": "stream",
     "text": [
      "result True\n",
      "result False\n"
     ]
    }
   ],
   "source": [
    "# Exercise 5: Check if the first and last number of a list is the same\n",
    "number_x = [10, 20, 30, 40, 10]\n",
    "number_y = [75, 65, 35, 75, 30]\n",
    "\n",
    "# if number_x[0] == number_x[-1]:\n",
    "#     print('True')\n",
    "# else:\n",
    "#     print('False')\n",
    "    \n",
    "# if number_y[0] == number_y[-1]:\n",
    "#     print('True')\n",
    "# else:\n",
    "#     print('False')\n",
    "def first_last_same(abc):\n",
    "    if abc[0]==abc[-1]:\n",
    "        return('True')\n",
    "    else:\n",
    "        return('False')\n",
    "\n",
    "print('result', first_last_same(number_x))\n",
    "print('result', first_last_same(number_y))\n"
   ]
  },
  {
   "cell_type": "code",
   "execution_count": 62,
   "id": "736e2ecf",
   "metadata": {},
   "outputs": [
    {
     "name": "stdout",
     "output_type": "stream",
     "text": [
      "10 20 55 "
     ]
    }
   ],
   "source": [
    "# Exercise 6: Display numbers divisible by 5 from a list\n",
    "#  Given list is  [10, 20, 33, 46, 55]\n",
    "a = [10, 20, 33, 46, 55]\n",
    "for i in a:\n",
    "    if i%5 == 0:\n",
    "        print(i,end=' ')"
   ]
  },
  {
   "cell_type": "code",
   "execution_count": 28,
   "id": "3283091d",
   "metadata": {},
   "outputs": [
    {
     "name": "stdout",
     "output_type": "stream",
     "text": [
      "Emma appeared 2 times\n"
     ]
    }
   ],
   "source": [
    "# Exercise 7: Return the count of a given substring from a string\n",
    "str_x = \"Emma is good developer. Emma is a writer\"\n",
    "a = str_x.split(' ')\n",
    "for i in a:\n",
    "    if i == 'Emma':\n",
    "        count = count+1\n",
    "print('Emma appeared',count, 'times')\n",
    "#ab = str_x.count('Emma')\n",
    "# print(ab)"
   ]
  },
  {
   "cell_type": "code",
   "execution_count": 35,
   "id": "f243e69d",
   "metadata": {},
   "outputs": [
    {
     "name": "stdout",
     "output_type": "stream",
     "text": [
      "1 \n",
      "2 2 \n",
      "3 3 3 \n",
      "4 4 4 4 \n",
      "5 5 5 5 5 \n"
     ]
    }
   ],
   "source": [
    "# # Exercise 8: Print the following pattern\n",
    "# 1 \n",
    "# 2 2 \n",
    "# 3 3 3 \n",
    "# 4 4 4 4 \n",
    "# 5 5 5 5 5\n",
    "\n",
    "\n",
    "for i in range(1,6):\n",
    "    for j in range(i):\n",
    "        print(i,end=' ')\n",
    "    print()"
   ]
  },
  {
   "cell_type": "code",
   "execution_count": null,
   "id": "cdf8c57d",
   "metadata": {},
   "outputs": [],
   "source": [
    "# Exercise 9: Check Palindrome Number\n"
   ]
  },
  {
   "cell_type": "code",
   "execution_count": 90,
   "id": "51ea0aaf",
   "metadata": {},
   "outputs": [
    {
     "name": "stdout",
     "output_type": "stream",
     "text": [
      "[25, 35, 40, 60, 90]\n"
     ]
    }
   ],
   "source": [
    "# Exercise 10: Create a new list from a two list using the following condition\n",
    "# Given a two list of numbers, write a program to create a new list such that\n",
    "# the new list should contain odd numbers from the first list and even numbers from the second list.\n",
    "list1 = [10, 20, 25, 30, 35]\n",
    "list2 = [40, 45, 60, 75, 90]\n",
    "\n",
    "list3=[]\n",
    "for i in list1:\n",
    "    if i%2!=0:\n",
    "        list3.append(i)\n",
    "for j in list2:\n",
    "    if j%2==0:\n",
    "        list3.append(j)\n",
    "        \n",
    "print(list3)"
   ]
  },
  {
   "cell_type": "code",
   "execution_count": 37,
   "id": "a0b62af1",
   "metadata": {},
   "outputs": [
    {
     "name": "stdout",
     "output_type": "stream",
     "text": [
      "6521"
     ]
    }
   ],
   "source": [
    "# Exercise 11: Write a Program to extract each digit from an integer in the reverse order.\n",
    "number = 1256 \n",
    "while number > 0:\n",
    "    d = number%10 \n",
    "    number = number//10\n",
    "    print(d,end='')\n",
    "\n",
    "\n"
   ]
  },
  {
   "cell_type": "code",
   "execution_count": 40,
   "id": "900af1c3",
   "metadata": {},
   "outputs": [
    {
     "data": {
      "text/plain": [
       "125"
      ]
     },
     "execution_count": 40,
     "metadata": {},
     "output_type": "execute_result"
    }
   ],
   "source": [
    "d = 1256//10 \n",
    "d"
   ]
  },
  {
   "cell_type": "code",
   "execution_count": 48,
   "id": "7759618b",
   "metadata": {},
   "outputs": [
    {
     "name": "stdout",
     "output_type": "stream",
     "text": [
      "0  0  0  0  0  0  0  0  0  0  0  \n",
      "0  1  2  3  4  5  6  7  8  9  10  \n",
      "0  2  4  6  8  10  12  14  16  18  20  \n",
      "0  3  6  9  12  15  18  21  24  27  30  \n",
      "0  4  8  12  16  20  24  28  32  36  40  \n",
      "0  5  10  15  20  25  30  35  40  45  50  \n",
      "0  6  12  18  24  30  36  42  48  54  60  \n",
      "0  7  14  21  28  35  42  49  56  63  70  \n",
      "0  8  16  24  32  40  48  56  64  72  80  \n",
      "0  9  18  27  36  45  54  63  72  81  90  \n",
      "0  10  20  30  40  50  60  70  80  90  100  \n"
     ]
    }
   ],
   "source": [
    "# Exercise 13: Print multiplication table form 1 to 10\n",
    "for i in range(11):\n",
    "    for j in range(11):\n",
    "        print(i*j,end='  ')\n",
    "    print()"
   ]
  },
  {
   "cell_type": "code",
   "execution_count": 9,
   "id": "0fc936fb",
   "metadata": {},
   "outputs": [
    {
     "name": "stdout",
     "output_type": "stream",
     "text": [
      "* * * * * * \n",
      "* * * * * \n",
      "* * * * \n",
      "* * * \n",
      "* * \n",
      "* \n"
     ]
    }
   ],
   "source": [
    "# Exercise 14: Print downward Half-Pyramid Pattern with Star (asterisk)\n",
    "for i in range(6,0,-1):\n",
    "    for j in range(i):\n",
    "        print('*',end=' ')\n",
    "    print()"
   ]
  },
  {
   "cell_type": "code",
   "execution_count": 50,
   "id": "6640c87e",
   "metadata": {},
   "outputs": [
    {
     "name": "stdout",
     "output_type": "stream",
     "text": [
      "Enter the Base5\n",
      "Enter the power4\n",
      "625\n"
     ]
    }
   ],
   "source": [
    "# # Exercise 15: Write a function called exponent(base, exp) that returns an int value of base \n",
    "# # raises to the power of exp.\n",
    "# base = 2\n",
    "# # exponent = 5\n",
    "# 2 raises to the power of 5: 32 i.e. (2 *2 * 2 *2 *2 = 32)\n",
    "base = int(input('Enter the Base'))\n",
    "exp = int(input('Enter the power'))\n",
    "def exponent(base,exp):\n",
    "    result = base**exp\n",
    "    return (result)\n",
    "print(exponent(base,exp))"
   ]
  },
  {
   "cell_type": "code",
   "execution_count": 24,
   "id": "c704a6b0",
   "metadata": {},
   "outputs": [
    {
     "name": "stdout",
     "output_type": "stream",
     "text": [
      "5 raises to the power of 4 is:  625\n"
     ]
    }
   ],
   "source": [
    "def exponent(base, exp):\n",
    "    num = exp\n",
    "    result = 1\n",
    "    while num >0:\n",
    "        result = result*base\n",
    "        num = num -1\n",
    "    print(base, \"raises to the power of\", exp, \"is: \", result)\n",
    "\n",
    "exponent(5, 4)"
   ]
  },
  {
   "cell_type": "markdown",
   "id": "8b77db06",
   "metadata": {},
   "source": [
    "## Python if else, for loop, and range() Exercises with Solutions"
   ]
  },
  {
   "cell_type": "code",
   "execution_count": 3,
   "id": "cb181432",
   "metadata": {},
   "outputs": [
    {
     "name": "stdout",
     "output_type": "stream",
     "text": [
      "1\n",
      "2\n",
      "3\n",
      "4\n",
      "5\n",
      "6\n",
      "7\n",
      "8\n",
      "9\n",
      "10\n"
     ]
    }
   ],
   "source": [
    "#     Exercise 1: Print First 10 natural numbers using while loop\n",
    "n= 1\n",
    "while n<=10:\n",
    "    print (n)\n",
    "    n =n+1"
   ]
  },
  {
   "cell_type": "code",
   "execution_count": 6,
   "id": "8a2cfb17",
   "metadata": {},
   "outputs": [
    {
     "name": "stdout",
     "output_type": "stream",
     "text": [
      "\n",
      "1 \n",
      "2 2 \n",
      "3 3 3 \n",
      "4 4 4 4 \n",
      "5 5 5 5 5 \n"
     ]
    }
   ],
   "source": [
    "#     Exercise 2: Print the following pattern\n",
    "# 1 \n",
    "# 1 2 \n",
    "# 1 2 3 \n",
    "# 1 2 3 4 \n",
    "# 1 2 3 4 5\n",
    "\n",
    "for i in range(0,6):\n",
    "    for j in range (i):\n",
    "        print(i,end=' ')\n",
    "    print()"
   ]
  },
  {
   "cell_type": "code",
   "execution_count": null,
   "id": "64625c5f",
   "metadata": {},
   "outputs": [],
   "source": [
    "#     Exercise 3: Calculate the sum of all numbers from 1 to a given number\n",
    "n = int(input('Enter the Number : '))\n",
    "result = 0\n",
    "while n> 0:\n",
    "    result = result + n\n",
    "    n = n+1\n",
    "print('Sum is : ',result)\n",
    "\n"
   ]
  },
  {
   "cell_type": "code",
   "execution_count": 73,
   "id": "fa93799b",
   "metadata": {},
   "outputs": [
    {
     "name": "stdout",
     "output_type": "stream",
     "text": [
      "Enter the Number : 2\n",
      "2\n",
      "4\n",
      "6\n",
      "8\n",
      "10\n",
      "12\n",
      "14\n",
      "16\n",
      "18\n",
      "20\n"
     ]
    }
   ],
   "source": [
    "#     Exercise 4: Write a program to print multiplication table of a given number\n",
    "num = int(input('Enter the Number : '))\n",
    "# result = 1\n",
    "while num <= 2 :\n",
    "    i= 1\n",
    "    while i<=10:\n",
    "        p = num*i\n",
    "        print(p)\n",
    "        i =i +1\n",
    "    num = num+1\n",
    "# while num <= 10:\n",
    "#     i = 1\n",
    "#     while i <= 10:\n",
    "#         product = num*i\n",
    "#         print(num, \" * \", i, \" = \", product, \"\\n\")\n",
    "#         i = i + 1\n",
    "#     num = num + 1\n",
    "#     print(\"\\n\")\n",
    "# print('\\n')\n",
    "# for i in range(1,11):\n",
    "#     print (n*i)\n"
   ]
  },
  {
   "cell_type": "code",
   "execution_count": 62,
   "id": "6913be91",
   "metadata": {},
   "outputs": [
    {
     "name": "stdout",
     "output_type": "stream",
     "text": [
      "2  *  1  =  2 \n",
      "\n",
      "2  *  2  =  4 \n",
      "\n",
      "2  *  3  =  6 \n",
      "\n",
      "2  *  4  =  8 \n",
      "\n",
      "2  *  5  =  10 \n",
      "\n",
      "2  *  6  =  12 \n",
      "\n",
      "2  *  7  =  14 \n",
      "\n",
      "2  *  8  =  16 \n",
      "\n",
      "2  *  9  =  18 \n",
      "\n",
      "2  *  10  =  20 \n",
      "\n",
      "\n",
      "\n",
      "3  *  1  =  3 \n",
      "\n",
      "3  *  2  =  6 \n",
      "\n",
      "3  *  3  =  9 \n",
      "\n",
      "3  *  4  =  12 \n",
      "\n",
      "3  *  5  =  15 \n",
      "\n",
      "3  *  6  =  18 \n",
      "\n",
      "3  *  7  =  21 \n",
      "\n",
      "3  *  8  =  24 \n",
      "\n",
      "3  *  9  =  27 \n",
      "\n",
      "3  *  10  =  30 \n",
      "\n",
      "\n",
      "\n",
      "4  *  1  =  4 \n",
      "\n",
      "4  *  2  =  8 \n",
      "\n",
      "4  *  3  =  12 \n",
      "\n",
      "4  *  4  =  16 \n",
      "\n",
      "4  *  5  =  20 \n",
      "\n",
      "4  *  6  =  24 \n",
      "\n",
      "4  *  7  =  28 \n",
      "\n",
      "4  *  8  =  32 \n",
      "\n",
      "4  *  9  =  36 \n",
      "\n",
      "4  *  10  =  40 \n",
      "\n",
      "\n",
      "\n",
      "5  *  1  =  5 \n",
      "\n",
      "5  *  2  =  10 \n",
      "\n",
      "5  *  3  =  15 \n",
      "\n",
      "5  *  4  =  20 \n",
      "\n",
      "5  *  5  =  25 \n",
      "\n",
      "5  *  6  =  30 \n",
      "\n",
      "5  *  7  =  35 \n",
      "\n",
      "5  *  8  =  40 \n",
      "\n",
      "5  *  9  =  45 \n",
      "\n",
      "5  *  10  =  50 \n",
      "\n",
      "\n",
      "\n",
      "6  *  1  =  6 \n",
      "\n",
      "6  *  2  =  12 \n",
      "\n",
      "6  *  3  =  18 \n",
      "\n",
      "6  *  4  =  24 \n",
      "\n",
      "6  *  5  =  30 \n",
      "\n",
      "6  *  6  =  36 \n",
      "\n",
      "6  *  7  =  42 \n",
      "\n",
      "6  *  8  =  48 \n",
      "\n",
      "6  *  9  =  54 \n",
      "\n",
      "6  *  10  =  60 \n",
      "\n",
      "\n",
      "\n",
      "7  *  1  =  7 \n",
      "\n",
      "7  *  2  =  14 \n",
      "\n",
      "7  *  3  =  21 \n",
      "\n",
      "7  *  4  =  28 \n",
      "\n",
      "7  *  5  =  35 \n",
      "\n",
      "7  *  6  =  42 \n",
      "\n",
      "7  *  7  =  49 \n",
      "\n",
      "7  *  8  =  56 \n",
      "\n",
      "7  *  9  =  63 \n",
      "\n",
      "7  *  10  =  70 \n",
      "\n",
      "\n",
      "\n",
      "8  *  1  =  8 \n",
      "\n",
      "8  *  2  =  16 \n",
      "\n",
      "8  *  3  =  24 \n",
      "\n",
      "8  *  4  =  32 \n",
      "\n",
      "8  *  5  =  40 \n",
      "\n",
      "8  *  6  =  48 \n",
      "\n",
      "8  *  7  =  56 \n",
      "\n",
      "8  *  8  =  64 \n",
      "\n",
      "8  *  9  =  72 \n",
      "\n",
      "8  *  10  =  80 \n",
      "\n",
      "\n",
      "\n",
      "9  *  1  =  9 \n",
      "\n",
      "9  *  2  =  18 \n",
      "\n",
      "9  *  3  =  27 \n",
      "\n",
      "9  *  4  =  36 \n",
      "\n",
      "9  *  5  =  45 \n",
      "\n",
      "9  *  6  =  54 \n",
      "\n",
      "9  *  7  =  63 \n",
      "\n",
      "9  *  8  =  72 \n",
      "\n",
      "9  *  9  =  81 \n",
      "\n",
      "9  *  10  =  90 \n",
      "\n",
      "\n",
      "\n",
      "10  *  1  =  10 \n",
      "\n",
      "10  *  2  =  20 \n",
      "\n",
      "10  *  3  =  30 \n",
      "\n",
      "10  *  4  =  40 \n",
      "\n",
      "10  *  5  =  50 \n",
      "\n",
      "10  *  6  =  60 \n",
      "\n",
      "10  *  7  =  70 \n",
      "\n",
      "10  *  8  =  80 \n",
      "\n",
      "10  *  9  =  90 \n",
      "\n",
      "10  *  10  =  100 \n",
      "\n",
      "\n",
      "\n"
     ]
    }
   ],
   "source": [
    "while num <= 10:\n",
    "    i = 1\n",
    "    while i <= 10:\n",
    "        product = num*i\n",
    "        print(num, \" * \", i, \" = \", product, \"\\n\")\n",
    "        i = i + 1\n",
    "    num = num + 1\n",
    "    print(\"\\n\")"
   ]
  },
  {
   "cell_type": "code",
   "execution_count": 21,
   "id": "20c68adf",
   "metadata": {},
   "outputs": [
    {
     "name": "stdout",
     "output_type": "stream",
     "text": [
      "75\n",
      "150\n",
      "145\n"
     ]
    }
   ],
   "source": [
    "#     Exercise 5: Display numbers from a list using loop\n",
    "# Write a program to display only those numbers from a list that satisfy the following conditions\n",
    "#     The number must be divisible by five\n",
    "#     If the number is greater than 150, then skip it and move to the next number\n",
    "#     If the number is greater than 500, then stop the loop\n",
    "\n",
    "numbers = [12, 75, 150, 180, 145, 525, 50]\n",
    "\n",
    "for i in numbers :\n",
    "    if i > 500: \n",
    "        break\n",
    "    elif i > 150:\n",
    "        continue \n",
    "    elif i % 5 == 0 :\n",
    "        print(i)\n",
    "\n"
   ]
  },
  {
   "cell_type": "code",
   "execution_count": 27,
   "id": "7f9a010d",
   "metadata": {},
   "outputs": [
    {
     "name": "stdout",
     "output_type": "stream",
     "text": [
      "Enter the number5121\n",
      "4\n"
     ]
    }
   ],
   "source": [
    "#     Exercise 6: Count the total number of digits in a number\n",
    "x = int(input('Enter the number'))\n",
    "count = 0\n",
    "while x != 0 :\n",
    "    x = x// 10\n",
    "    count = count + 1\n",
    "print(count)"
   ]
  },
  {
   "cell_type": "code",
   "execution_count": 31,
   "id": "6eeda77d",
   "metadata": {},
   "outputs": [
    {
     "name": "stdout",
     "output_type": "stream",
     "text": [
      "5 5 5 5 5 \n",
      "4 4 4 4 \n",
      "3 3 3 \n",
      "2 2 \n",
      "1 \n"
     ]
    }
   ],
   "source": [
    "#     Exercise 7: Print the following pattern\n",
    "# 5 4 3 2 1 \n",
    "# 4 3 2 1 \n",
    "# 3 2 1 \n",
    "# 2 1 \n",
    "# 1\n",
    "\n",
    "for i in range (5,0,-1):\n",
    "    for j in range (i):\n",
    "        print(i,end=' ')\n",
    "    print()\n"
   ]
  },
  {
   "cell_type": "code",
   "execution_count": 83,
   "id": "7269765e",
   "metadata": {},
   "outputs": [
    {
     "name": "stdout",
     "output_type": "stream",
     "text": [
      "50\n",
      "40\n",
      "30\n",
      "20\n",
      "10\n"
     ]
    }
   ],
   "source": [
    "#     Exercise 8: Print list in reverse order using a loop\n",
    "list1 = [10, 20, 30, 40, 50]\n",
    "for i in range(len(list1)-1,-1,-1):\n",
    "    print(list1[i])\n"
   ]
  },
  {
   "cell_type": "code",
   "execution_count": 88,
   "id": "31dc2f41",
   "metadata": {},
   "outputs": [
    {
     "name": "stdout",
     "output_type": "stream",
     "text": [
      "4\n",
      "3\n",
      "2\n",
      "1\n",
      "0\n"
     ]
    }
   ],
   "source": [
    "for i in range(4,-1,-1):\n",
    "    print(i)\n"
   ]
  },
  {
   "cell_type": "code",
   "execution_count": 48,
   "id": "7bb87c98",
   "metadata": {},
   "outputs": [
    {
     "name": "stdout",
     "output_type": "stream",
     "text": [
      "-10\n",
      "-9\n",
      "-8\n",
      "-7\n",
      "-6\n",
      "-5\n",
      "-4\n",
      "-3\n",
      "-2\n",
      "-1\n"
     ]
    }
   ],
   "source": [
    "#     Exercise 9: Display numbers from -10 to -1 using for loop\n",
    "for i in range(-10,0):\n",
    "    print(i)"
   ]
  },
  {
   "cell_type": "code",
   "execution_count": 49,
   "id": "420ccaef",
   "metadata": {},
   "outputs": [
    {
     "name": "stdout",
     "output_type": "stream",
     "text": [
      "0\n",
      "1\n",
      "2\n",
      "3\n",
      "4\n",
      "Done\n"
     ]
    }
   ],
   "source": [
    "#     Exercise 10: Use else block to display a message “Done” after successful execution of for loop\n",
    "for i in range(5):\n",
    "    print(i)\n",
    "else:\n",
    "    print('Done')"
   ]
  },
  {
   "cell_type": "code",
   "execution_count": 54,
   "id": "4243d775",
   "metadata": {},
   "outputs": [
    {
     "name": "stdout",
     "output_type": "stream",
     "text": [
      "29\n",
      "31\n",
      "37\n",
      "41\n",
      "43\n",
      "47\n"
     ]
    }
   ],
   "source": [
    "#     Exercise 11: Write a program to display all prime numbers within a range\n",
    "for i in range(25,50):\n",
    "    if i > 1 :\n",
    "        for j in range(2,i):\n",
    "            if (i%j) == 0:\n",
    "                break\n",
    "        else:\n",
    "                print(i)"
   ]
  },
  {
   "cell_type": "code",
   "execution_count": 89,
   "id": "cc1f7252",
   "metadata": {},
   "outputs": [
    {
     "name": "stdout",
     "output_type": "stream",
     "text": [
      "0 1 1 2 3 5 8 13 21 34 "
     ]
    }
   ],
   "source": [
    "#     Exercise 12: Display Fibonacci series up to 10 terms\n",
    "num1 , num2 =0,1\n",
    "for i in range (1,11):\n",
    "    print(num1,end=' ')\n",
    "    res = num1+num2\n",
    "    num1 =num2\n",
    "    num2 = res"
   ]
  },
  {
   "cell_type": "code",
   "execution_count": 26,
   "id": "770be94f",
   "metadata": {},
   "outputs": [
    {
     "name": "stdout",
     "output_type": "stream",
     "text": [
      "enter the number5\n",
      "120\n"
     ]
    }
   ],
   "source": [
    "#     Exercise 13: Find the factorial of a given number\n",
    "n = int(input('enter the number'))\n",
    "x = 1\n",
    "for i in range (1,n+1):\n",
    "    x = x*i\n",
    "print(x)\n",
    "\n",
    "    "
   ]
  },
  {
   "cell_type": "code",
   "execution_count": 39,
   "id": "10aed5ad",
   "metadata": {},
   "outputs": [
    {
     "name": "stdout",
     "output_type": "stream",
     "text": [
      "Enter the Number123\n",
      "321"
     ]
    }
   ],
   "source": [
    "#     Exercise 14: Reverse a given integer number\n",
    "x = int(input('Enter the Number'))\n",
    "rev = 0\n",
    "while x>0:\n",
    "    rem = x%10\n",
    "    rev = (rev*10)-rem\n",
    "    x=x//10\n",
    "    print(rem,end='')"
   ]
  },
  {
   "cell_type": "code",
   "execution_count": 42,
   "id": "c458d0bf",
   "metadata": {},
   "outputs": [
    {
     "name": "stdout",
     "output_type": "stream",
     "text": [
      "20 40 60 80 100 "
     ]
    }
   ],
   "source": [
    "#Exercise 15: Use a loop to display elements from a given list present at odd index positions\n",
    "my_list = [10, 20, 30, 40, 50, 60, 70, 80, 90, 100]\n",
    "for i in range(0,len(my_list)):\n",
    "    if i %2 != 0:\n",
    "        print(my_list[i],end=' ')"
   ]
  },
  {
   "cell_type": "code",
   "execution_count": 47,
   "id": "d8e403f4",
   "metadata": {},
   "outputs": [
    {
     "name": "stdout",
     "output_type": "stream",
     "text": [
      "Enter the number :6\n",
      "Current number :  1 Cube of the number :  1\n",
      "Current number :  2 Cube of the number :  8\n",
      "Current number :  3 Cube of the number :  27\n",
      "Current number :  4 Cube of the number :  64\n",
      "Current number :  5 Cube of the number :  125\n",
      "Current number :  6 Cube of the number :  216\n"
     ]
    }
   ],
   "source": [
    "#     Exercise 16: Calculate the cube of all numbers from 1 to a given number\n",
    "num = int(input('Enter the number :'))\n",
    "for i in range (1,num+1):\n",
    "    res = i**3\n",
    "    print('Current number : ',i,'Cube of the number : ',res)"
   ]
  },
  {
   "cell_type": "code",
   "execution_count": 53,
   "id": "a9643d8f",
   "metadata": {},
   "outputs": [
    {
     "name": "stdout",
     "output_type": "stream",
     "text": [
      "Enter the Number upto series 5\n",
      "Enter the Number for series 3\n",
      "37035\n"
     ]
    }
   ],
   "source": [
    "#     Exercise 17: Find the sum of the series upto n terms\n",
    "n = int(input('Enter the Number upto series '))\n",
    "x = int(input('Enter the Number for series '))\n",
    "sums =0\n",
    "start = x\n",
    "for i in range(0,n):\n",
    "    sums =sums + start\n",
    "    start = start* 10+x\n",
    "print(sums)\n",
    "    "
   ]
  },
  {
   "cell_type": "code",
   "execution_count": 58,
   "id": "b84623ab",
   "metadata": {},
   "outputs": [
    {
     "name": "stdout",
     "output_type": "stream",
     "text": [
      "\n",
      "* \n",
      "* * \n",
      "* * * \n",
      "* * * * \n",
      "* * * * * \n",
      "* * * * * * \n",
      "* * * * * \n",
      "* * * * \n",
      "* * * \n",
      "* * \n",
      "* \n"
     ]
    }
   ],
   "source": [
    "#     Exercise 18: Print the following pattern\n",
    "# * \n",
    "# * * \n",
    "# * * * \n",
    "# * * * * \n",
    "# * * * * * \n",
    "# * * * * \n",
    "# * * * \n",
    "# * * \n",
    "# *\n",
    "for i in range(0,6):\n",
    "    for i in range(i):\n",
    "        print('*',end=' ')\n",
    "    print()\n",
    "for i in range(6,0,-1):\n",
    "    for i in range(i):\n",
    "        print('*',end=' ')\n",
    "    print()"
   ]
  },
  {
   "cell_type": "markdown",
   "id": "7f484b71",
   "metadata": {},
   "source": [
    "# Python List Exercise with Solutions"
   ]
  },
  {
   "cell_type": "code",
   "execution_count": 62,
   "id": "dfdfe668",
   "metadata": {},
   "outputs": [
    {
     "name": "stdout",
     "output_type": "stream",
     "text": [
      "[500, 400, 300, 200, 100]\n"
     ]
    }
   ],
   "source": [
    "#     Exercise 1: Reverse a list in Python.\n",
    "list1 = [100, 200, 300, 400, 500]\n",
    "print(list1[::-1])\n",
    "    "
   ]
  },
  {
   "cell_type": "code",
   "execution_count": 74,
   "id": "87719423",
   "metadata": {},
   "outputs": [
    {
     "name": "stdout",
     "output_type": "stream",
     "text": [
      "My name is Kelly <class 'str'>\n"
     ]
    }
   ],
   "source": [
    "#     Exercise 2: Concatenate two lists index-wise\n",
    "list1 = [\"M\", \"na\", \"i\", \"Ke\"]\n",
    "list2 = [\"y\", \"me\", \"s\", \"lly\"]\n",
    "list3 =[]\n",
    "for i in range(len(list1)):\n",
    "    res = list1[i]+list2[i]\n",
    "    list3.append(res)\n",
    "print(list3)\n",
    "#method 2 but wrong as answer is not list but a sting  \n",
    "for i in range(len(list1)):\n",
    "    list3 = list1[i]+list2[i]\n",
    "    print(list3,end=' ')\n",
    "\n",
    "print(type(list3))"
   ]
  },
  {
   "cell_type": "code",
   "execution_count": 75,
   "id": "d2ee911e",
   "metadata": {},
   "outputs": [
    {
     "name": "stdout",
     "output_type": "stream",
     "text": [
      "[1, 4, 9, 16, 25, 36, 49]\n"
     ]
    }
   ],
   "source": [
    "#     Exercise 3: Turn every item of a list into its square\n",
    "numbers = [1, 2, 3, 4, 5, 6, 7]\n",
    "new_numbers = []\n",
    "for i in numbers:\n",
    "    res = i**2\n",
    "    new_numbers.append(res)\n",
    "print(new_numbers)"
   ]
  },
  {
   "cell_type": "code",
   "execution_count": 85,
   "id": "e915f828",
   "metadata": {},
   "outputs": [
    {
     "name": "stdout",
     "output_type": "stream",
     "text": [
      "['Hello Dear', 'Hello Sir', 'take Dear', 'take Sir']\n"
     ]
    }
   ],
   "source": [
    "#     Exercise 4: Concatenate two lists in the following order\n",
    "list1 = [\"Hello \", \"take \"]\n",
    "list2 = [\"Dear\", \"Sir\"]\n",
    "list3=[]\n",
    "res = [x+y for x in list1 for y in list2]\n",
    "print(res)"
   ]
  },
  {
   "cell_type": "code",
   "execution_count": 93,
   "id": "4c16490c",
   "metadata": {},
   "outputs": [
    {
     "name": "stdout",
     "output_type": "stream",
     "text": [
      "10 400\n",
      "20 300\n",
      "30 200\n",
      "40 100\n"
     ]
    }
   ],
   "source": [
    "#     Exercise 5: Iterate both lists simultaneously\n",
    "list1 = [10, 20, 30, 40]\n",
    "list2 = [100, 200, 300, 400]\n",
    "for x, y in zip(list1, list2[::-1]):\n",
    "    print(x, y)"
   ]
  },
  {
   "cell_type": "code",
   "execution_count": 95,
   "id": "3f5e8ec1",
   "metadata": {},
   "outputs": [
    {
     "name": "stdout",
     "output_type": "stream",
     "text": [
      "['Mike', 'Emma', 'Kelly', 'Brad']\n"
     ]
    }
   ],
   "source": [
    "#     Exercise 6: Remove empty strings from the list of strings\n",
    "list1 = [\"Mike\", \"\", \"Emma\", \"Kelly\", \"\", \"Brad\"]\n",
    "res = list(filter(None, list1))\n",
    "print(res)"
   ]
  },
  {
   "cell_type": "code",
   "execution_count": 3,
   "id": "c6cc9a1e",
   "metadata": {},
   "outputs": [
    {
     "name": "stdout",
     "output_type": "stream",
     "text": [
      "[10, 20, [300, 400, [5000, 6000, 7000], 500], 30, 40]\n"
     ]
    }
   ],
   "source": [
    "#     Exercise 7: Add new item to list after a specified item ,\n",
    "# Write a program to add item 7000 after 6000 in the following Python List\n",
    "\n",
    "list1 = [10, 20, [300, 400, [5000, 6000], 500], 30, 40]\n",
    "\n",
    "list1[2][2].append(7000)\n",
    "print(list1)"
   ]
  },
  {
   "cell_type": "code",
   "execution_count": 6,
   "id": "43fc71a9",
   "metadata": {},
   "outputs": [
    {
     "name": "stdout",
     "output_type": "stream",
     "text": [
      "['a', 'b', ['c', ['d', 'e', ['f', 'g', 'h', 'i', 'j'], 'k'], 'l'], 'm', 'n']\n"
     ]
    }
   ],
   "source": [
    "#     Exercise 8: Extend nested list by adding the sublist\n",
    "list1 = [\"a\", \"b\", [\"c\", [\"d\", \"e\", [\"f\", \"g\"], \"k\"], \"l\"], \"m\", \"n\"]\n",
    "# sub list to add\n",
    "sub_list = [\"h\", \"i\", \"j\"]\n",
    "\n",
    "list1[2][1][2].extend([\"h\", \"i\", \"j\"])\n",
    "print(list1)"
   ]
  },
  {
   "cell_type": "code",
   "execution_count": 11,
   "id": "bc38dbb6",
   "metadata": {},
   "outputs": [
    {
     "name": "stdout",
     "output_type": "stream",
     "text": [
      "[5, 10, 15, 200, 25, 50, 20]\n"
     ]
    }
   ],
   "source": [
    "#     Exercise 9: Replace list’s item with new value if found\n",
    "# You have given a Python list. Write a program to find value 20 in the list, and if it is present,\n",
    "# replace it with 200. Only update the first occurrence of an item.\n",
    "list1 = [5, 10, 15, 20, 25, 50, 20]\n",
    "i= list1.index(20)\n",
    "list1[i]=200\n",
    "print(list1)"
   ]
  },
  {
   "cell_type": "code",
   "execution_count": 13,
   "id": "362a1c86",
   "metadata": {},
   "outputs": [
    {
     "name": "stdout",
     "output_type": "stream",
     "text": [
      "Enter the number to remove20\n",
      "[5, 15, 25, 50]\n"
     ]
    }
   ],
   "source": [
    "#     Exercise 10: Remove all occurrences of a specific item from a list.\n",
    "#     Given a Python list, write a program to remove all occurrences of item 20.\n",
    "list1 = [5, 20, 15, 20, 25, 50, 20]\n",
    "y = int(input('Enter the number to remove'))\n",
    "def remove_item(list1,y):\n",
    "    return[i for i in list1 if i != y]\n",
    "\n",
    "print(remove_item(list1,y))"
   ]
  },
  {
   "cell_type": "markdown",
   "id": "801d777c",
   "metadata": {},
   "source": [
    "## Python String Exercise with Solutions"
   ]
  },
  {
   "cell_type": "code",
   "execution_count": 16,
   "id": "66667606",
   "metadata": {},
   "outputs": [
    {
     "name": "stdout",
     "output_type": "stream",
     "text": [
      "Enter the Name : JaSonAy\n",
      "Son\n"
     ]
    }
   ],
   "source": [
    "# Table of contents\n",
    "#     Exercise 1A: Create a string made of the first, middle and last character\n",
    "x = input('Enter the Name : ')\n",
    "\n",
    "# result = x[0]\n",
    "# l = len(x)\n",
    "# mid = int(l/2)\n",
    "# result = result+ x[mid]\n",
    "# last = x[-1]\n",
    "# result = result+last\n",
    "# print(result)\n",
    "#     Exercise 1B: Create a string made of the middle three characters\n",
    "l = len(x)\n",
    "mid = int(l/2)\n",
    "result = x[mid]\n",
    "lm = x[mid-1]\n",
    "result = lm +result \n",
    "mr= x[mid+1]\n",
    "result = result + mr\n",
    "print(result)"
   ]
  },
  {
   "cell_type": "code",
   "execution_count": 24,
   "id": "e7e40589",
   "metadata": {},
   "outputs": [
    {
     "name": "stdout",
     "output_type": "stream",
     "text": [
      "AuKellylt\n"
     ]
    }
   ],
   "source": [
    "#     Exercise 2: Append new string in the middle of a given string\n",
    "s1 = \"Ault\"\n",
    "s2 = \"Kelly\"\n",
    "l = len(s1)\n",
    "mid = int(l/2)\n",
    "s3 = s1[:mid]+s2+s1[mid:]\n",
    "print(s3)"
   ]
  },
  {
   "cell_type": "code",
   "execution_count": 11,
   "id": "8c855ca7",
   "metadata": {},
   "outputs": [
    {
     "data": {
      "text/plain": [
       "'AJrpan'"
      ]
     },
     "execution_count": 11,
     "metadata": {},
     "output_type": "execute_result"
    }
   ],
   "source": [
    "#     Exercise 3: Create a new string made of the first, middle, and \n",
    "#     last characters of each input string\n",
    "s1 = \"America\"\n",
    "s2 = \"Japan\"\n",
    "def abc(x,y):\n",
    "        l = len(x)\n",
    "        l1 = len(y)\n",
    "        result =x[0] + y[0]\n",
    "        mid = int(l/2)\n",
    "        mid1 = int(l1/2)\n",
    "        result = result + x[mid] + y[mid1]\n",
    "        last = x[-1] +y[-1]\n",
    "        result = result+last\n",
    "        return result\n",
    "\n",
    "          \n",
    "abc(s1,s2)"
   ]
  },
  {
   "cell_type": "code",
   "execution_count": 19,
   "id": "20ef49d9",
   "metadata": {},
   "outputs": [
    {
     "name": "stdout",
     "output_type": "stream",
     "text": [
      "yaivePNT\n"
     ]
    }
   ],
   "source": [
    "#     Exercise 4: Arrange string characters such that lowercase letters should come first\n",
    "str1 = 'PyNaTive'\n",
    "lo =[]\n",
    "up =[]\n",
    "for i in str1:\n",
    "    if i.islower():\n",
    "        lo.append(i)\n",
    "    else:\n",
    "        up.append(i)\n",
    "\n",
    "str2 = ''.join(lo+up)\n",
    "print(str2)"
   ]
  },
  {
   "cell_type": "code",
   "execution_count": 24,
   "id": "be59a1e8",
   "metadata": {},
   "outputs": [
    {
     "name": "stdout",
     "output_type": "stream",
     "text": [
      "letter :  8 digit :  3 special 4\n",
      "15\n"
     ]
    }
   ],
   "source": [
    "#     Exercise 5: Count all letters, digits, and special symbols from a given string\n",
    "str1    = \"P@#yn26at^&i5ve\"\n",
    "letter  = 0\n",
    "digit   = 0\n",
    "special = 0\n",
    "for i in str1 :\n",
    "    if i.isdigit():\n",
    "        digit += 1\n",
    "    elif i.isalpha():\n",
    "        letter += 1\n",
    "    else:\n",
    "        special += 1\n",
    "        \n",
    "        \n",
    "print('letter : ',letter,'digit : ',digit,'special', special)\n",
    "print(len(str1)) \n"
   ]
  },
  {
   "cell_type": "code",
   "execution_count": 26,
   "id": "2edcdfc4",
   "metadata": {},
   "outputs": [
    {
     "name": "stdout",
     "output_type": "stream",
     "text": [
      "enter  str 1 :abc\n",
      "enter  str 2 :xyz\n",
      "azbycx"
     ]
    }
   ],
   "source": [
    "#     Exercise 6: Create a mixed String using the following rules\n",
    "\n",
    "x = input('enter  str 1 :')\n",
    "y = input('enter  str 2 :')\n",
    "\n",
    "y= y[::-1]\n",
    "\n",
    "length = len(x) if len(x)> len(y) else len(y)\n",
    "for i in range(length):\n",
    "    result = x[i]+y[i]\n",
    "    print(result,end='')\n"
   ]
  },
  {
   "cell_type": "code",
   "execution_count": 3,
   "id": "5632f076",
   "metadata": {},
   "outputs": [
    {
     "name": "stdout",
     "output_type": "stream",
     "text": [
      "Enter the Strak\n",
      "Enter the Strakshit\n",
      "True\n"
     ]
    }
   ],
   "source": [
    "#     Exercise 7: String characters balance Test\n",
    "#     Write a program to check if two strings are balanced. \n",
    "#     For example, strings s1 and s2 are balanced if all the characters in the s1 are present in s2. \n",
    "#     The character’s position doesn’t matter.\n",
    "\n",
    "s1 = input('Enter the Str')\n",
    "s2 = input('Enter the Str')\n",
    "def bal(s1,s2):\n",
    "    for i in s1:\n",
    "        if i in s2:\n",
    "            return('True')\n",
    "        else:\n",
    "            return ('False')\n",
    "\n",
    "print(bal(s1,s2))"
   ]
  },
  {
   "cell_type": "code",
   "execution_count": 36,
   "id": "f67def71",
   "metadata": {},
   "outputs": [
    {
     "name": "stdout",
     "output_type": "stream",
     "text": [
      "Count of USA :  2\n"
     ]
    }
   ],
   "source": [
    "#     Exercise 8: Find all occurrences of a substring in a given string by ignoring the case\n",
    "str1 = \"Welcome to USA. usa awesome, isn't it?\"\n",
    "str1 = str1.lower()\n",
    "count = 0\n",
    "if 'usa' in str1:\n",
    "    count = str1.count('usa')\n",
    "print('Count of USA : ',count)"
   ]
  },
  {
   "cell_type": "code",
   "execution_count": 47,
   "id": "0070f750",
   "metadata": {},
   "outputs": [
    {
     "name": "stdout",
     "output_type": "stream",
     "text": [
      "38\n",
      "6\n",
      "6.333333333333333\n"
     ]
    }
   ],
   "source": [
    "#     Exercise 9: Calculate the sum and average of the digits present in a string\n",
    "str1 = \"PYnative29@#8496\"\n",
    "sums = 0\n",
    "count =0\n",
    "for i in str1:\n",
    "    if i.isdigit():\n",
    "        sums = sums + int(i)\n",
    "        count +=1\n",
    "print(sums)\n",
    "print(count)\n",
    "avg = sums/count\n",
    "print(avg)"
   ]
  },
  {
   "cell_type": "code",
   "execution_count": 49,
   "id": "c2553a59",
   "metadata": {},
   "outputs": [
    {
     "name": "stdout",
     "output_type": "stream",
     "text": [
      "Result: {'A': 1, 'p': 2, 'N': 1, 'D': 1, 'F': 1, 'K': 1, 'C': 1, 'V': 1, ',': 1, '.': 1, 'l': 1, 'e': 1}\n"
     ]
    }
   ],
   "source": [
    "#     Exercise 10: Write a program to count occurrences of all characters within a string\n",
    "str1 = \"AppNDFKCV,.le\"\n",
    "\n",
    "# create a result dictionary\n",
    "char_dict = dict()\n",
    "\n",
    "for char in str1:\n",
    "    count = str1.count(char)\n",
    "    # add / update the count of a character\n",
    "    char_dict[char] = count\n",
    "print('Result:', char_dict)"
   ]
  },
  {
   "cell_type": "code",
   "execution_count": 1,
   "id": "4ec0cc6d",
   "metadata": {},
   "outputs": [
    {
     "name": "stdout",
     "output_type": "stream",
     "text": [
      "evitanYP\n"
     ]
    }
   ],
   "source": [
    "#     Exercise 11: Reverse a given string\n",
    "str1 = \"PYnative\"\n",
    "print(str1[::-1])"
   ]
  },
  {
   "cell_type": "code",
   "execution_count": 4,
   "id": "b2bc3563",
   "metadata": {},
   "outputs": [
    {
     "name": "stdout",
     "output_type": "stream",
     "text": [
      "64\n",
      "43\n"
     ]
    }
   ],
   "source": [
    "#     Exercise 12: Find the last position of a given substring\n",
    "str1 = \"Emma is a data scientist who knows Python. Emma works at google.\"\n",
    "print(len(str1))\n",
    "index = str1.rfind('Emma')\n",
    "print(index)"
   ]
  },
  {
   "cell_type": "code",
   "execution_count": 6,
   "id": "7812796a",
   "metadata": {},
   "outputs": [
    {
     "name": "stdout",
     "output_type": "stream",
     "text": [
      "Emma\n",
      "is\n",
      "a\n",
      "data\n",
      "scientist\n"
     ]
    }
   ],
   "source": [
    "#     Exercise 13: Split a string on hyphens\n",
    "# Write a program to split a given string on hyphens and display each substring.\n",
    "str1 = 'Emma-is-a-data-scientist'\n",
    "r= str1.split('-')\n",
    "for i in r :\n",
    "    print(i)"
   ]
  },
  {
   "cell_type": "code",
   "execution_count": 15,
   "id": "c37e4e55",
   "metadata": {},
   "outputs": [
    {
     "name": "stdout",
     "output_type": "stream",
     "text": [
      "['Emma', 'Jon', 'Kelly', 'Eric']\n"
     ]
    }
   ],
   "source": [
    "#     Exercise 14: Remove empty strings from a list of strings\n",
    "str_list = [\"Emma\", \"Jon\", \"\", \"Kelly\", None, \"Eric\", \"\"]\n",
    "res =[]\n",
    "for i in str_list:\n",
    "    if i:\n",
    "        res.append(i)\n",
    "print(res)"
   ]
  },
  {
   "cell_type": "code",
   "execution_count": 26,
   "id": "d7bc193b",
   "metadata": {},
   "outputs": [
    {
     "name": "stdout",
     "output_type": "stream",
     "text": [
      "Jon is developer  musician\n"
     ]
    }
   ],
   "source": [
    "#     Exercise 15: Remove special symbols / punctuation from a string\n",
    "str1 = \"/*Jon is @developer & musician\"\n",
    "def punch_remove(x):\n",
    "    str2 = ''\n",
    "    punctuation = '!@#$%^&*()&*<>?,./\\|\"\"'\n",
    "    for i in x:\n",
    "        if i  not in punctuation:\n",
    "            str2=str2+i\n",
    "    return str2\n",
    "print(punch_remove(str1))"
   ]
  },
  {
   "cell_type": "code",
   "execution_count": 29,
   "id": "d76cfc40",
   "metadata": {},
   "outputs": [
    {
     "name": "stdout",
     "output_type": "stream",
     "text": [
      "2510\n"
     ]
    }
   ],
   "source": [
    "#     Exercise 16: Removal all characters from a string except integers\n",
    "str1 = 'I am 25 years and 10 months old'\n",
    "st1 =''\n",
    "for i in str1:\n",
    "    if i.isdigit():\n",
    "        st1 = st1+i \n",
    "print(st1)\n",
    "        "
   ]
  },
  {
   "cell_type": "code",
   "execution_count": 90,
   "id": "a9ff82ab",
   "metadata": {},
   "outputs": [],
   "source": [
    "#     Exercise 17: Find words with both alphabets and numbers\n",
    "str1 = \"Emma25 is Data scientist50 and AI Expert\"\n"
   ]
  },
  {
   "cell_type": "code",
   "execution_count": 45,
   "id": "8fb81e2c",
   "metadata": {},
   "outputs": [
    {
     "name": "stdout",
     "output_type": "stream",
     "text": [
      "##Jon is #developer # musician##\n"
     ]
    }
   ],
   "source": [
    "#     Exercise 18: Replace each special symbol with # in the following string\n",
    "str1 = '/*Jon is @developer & musician!!'\n",
    "srt2 =''\n",
    "punctuation = '!@#$%^&*()&*<>?,./\\|\"\"'\n",
    "for i in str1:\n",
    "    if i in punctuation:\n",
    "        str1=str1.replace(i,'#')\n",
    "print(str1)"
   ]
  },
  {
   "cell_type": "markdown",
   "id": "3e365aaf",
   "metadata": {},
   "source": [
    "## Python Functions Exercise"
   ]
  },
  {
   "cell_type": "code",
   "execution_count": 47,
   "id": "ee5f4ae4",
   "metadata": {},
   "outputs": [
    {
     "name": "stdout",
     "output_type": "stream",
     "text": [
      "36\n"
     ]
    }
   ],
   "source": [
    "#     Exercise 1: Create a function in Python\n",
    "def func(x):\n",
    "    x = x**2\n",
    "    return x\n",
    "print(func(6))"
   ]
  },
  {
   "cell_type": "code",
   "execution_count": 1,
   "id": "d36db0e3",
   "metadata": {},
   "outputs": [
    {
     "name": "stdout",
     "output_type": "stream",
     "text": [
      "20\n",
      "40\n",
      "60\n",
      "80\n",
      "100\n"
     ]
    }
   ],
   "source": [
    "#     Exercise 2: Create a function with variable length of arguments\n",
    "def func1(*args):\n",
    "    for i in args:\n",
    "        print(i)\n",
    "\n",
    "func1(20, 40, 60)\n",
    "func1(80, 100)"
   ]
  },
  {
   "cell_type": "code",
   "execution_count": 8,
   "id": "ee8cd16a",
   "metadata": {},
   "outputs": [
    {
     "name": "stdout",
     "output_type": "stream",
     "text": [
      "sum :  100 sub:  20\n"
     ]
    }
   ],
   "source": [
    "#     Exercise 3: Return multiple values from a function\n",
    "def calculation(a,b):\n",
    "    add = a+b\n",
    "    sub = a-b\n",
    "    print( 'sum : ', add ,'sub: ', sub)\n",
    "\n",
    "calculation(60,40)"
   ]
  },
  {
   "cell_type": "code",
   "execution_count": 15,
   "id": "4cdd62f5",
   "metadata": {},
   "outputs": [
    {
     "name": "stdout",
     "output_type": "stream",
     "text": [
      "Name : akshit Salary :  9000\n",
      "Name : akshit Salary :  10000\n",
      "Name : akshit Salary :  8500\n"
     ]
    }
   ],
   "source": [
    "#     Exercise 4: Create a function with a default argument\n",
    "def show_employee(x,y=9000):\n",
    "    print('Name :',x,'Salary : ',y)\n",
    "\n",
    "show_employee('akshit')\n",
    "show_employee('akshit',10000)\n",
    "show_employee('akshit',8500)"
   ]
  },
  {
   "cell_type": "code",
   "execution_count": 93,
   "id": "98b20729",
   "metadata": {},
   "outputs": [
    {
     "name": "stdout",
     "output_type": "stream",
     "text": [
      "20\n"
     ]
    }
   ],
   "source": [
    "#     Exercise 5: Create an inner function to calculate the addition in the following way\n",
    "# outer function\n",
    "def outer_fun(a, b):\n",
    "    square = a ** 2\n",
    "    def addition(a, b):\n",
    "        return a + b\n",
    "    add = addition(a, b)\n",
    "    return add + 5\n",
    "result = outer_fun(5, 10)\n",
    "print(result)"
   ]
  },
  {
   "cell_type": "code",
   "execution_count": 18,
   "id": "948180f6",
   "metadata": {},
   "outputs": [
    {
     "name": "stdout",
     "output_type": "stream",
     "text": [
      "55\n"
     ]
    }
   ],
   "source": [
    "#     Exercise 6: Create a recursive function\n",
    "# Write a program to create a recursive function to calculate the sum of numbers from 0 to 10.\n",
    "# A recursive function is a function that calls itself again and again.\n",
    "\n",
    "def addition(num):\n",
    "    if num:\n",
    "        return num + addition(num - 1)\n",
    "    else:\n",
    "        return 0\n",
    "\n",
    "res = addition(10)\n",
    "print(res)\n"
   ]
  },
  {
   "cell_type": "code",
   "execution_count": 19,
   "id": "b12fc297",
   "metadata": {},
   "outputs": [
    {
     "name": "stdout",
     "output_type": "stream",
     "text": [
      "Emma 26\n",
      "Emma 26\n"
     ]
    }
   ],
   "source": [
    "#     Exercise 7: Assign a different name to function and call it through the new name\n",
    "def display_student(name, age):\n",
    "    print(name, age)\n",
    "\n",
    "display_student(\"Emma\", 26)\n",
    "showStudent = display_student\n",
    "showStudent(\"Emma\", 26)"
   ]
  },
  {
   "cell_type": "code",
   "execution_count": 30,
   "id": "260e96b9",
   "metadata": {},
   "outputs": [
    {
     "name": "stdout",
     "output_type": "stream",
     "text": [
      "4 6 8 10 12 14 16 18 20 22 24 26 28 30 "
     ]
    }
   ],
   "source": [
    "#     Exercise 8: Generate a Python list of all the even numbers between 4 to 30\n",
    "def even_num(x,y):\n",
    "    for i in range(x,y+1):\n",
    "        if i % 2 ==0:\n",
    "            print (i,end=' ')\n",
    "        \n",
    "even_num(4,30)"
   ]
  },
  {
   "cell_type": "code",
   "execution_count": 39,
   "id": "7060eabe",
   "metadata": {},
   "outputs": [
    {
     "data": {
      "text/plain": [
       "24"
      ]
     },
     "execution_count": 39,
     "metadata": {},
     "output_type": "execute_result"
    }
   ],
   "source": [
    "#     Exercise 9: Find the largest item from a given list\n",
    "x = [4, 6, 8, 24, 12, 2]\n",
    "def larg(x):\n",
    "    maxx = x[0]\n",
    "    for i in x:\n",
    "        if i>maxx:\n",
    "            maxx=i\n",
    "    return maxx\n",
    "larg(x)"
   ]
  },
  {
   "cell_type": "markdown",
   "id": "88eeaeee",
   "metadata": {},
   "source": [
    "## Python Data Structure Exercise for Beginners"
   ]
  },
  {
   "cell_type": "code",
   "execution_count": 45,
   "id": "3405ae65",
   "metadata": {},
   "outputs": [
    {
     "name": "stdout",
     "output_type": "stream",
     "text": [
      "[6, 12, 18, 4, 12, 20, 28]\n"
     ]
    }
   ],
   "source": [
    "#     Exercise 1: Create a list by picking an odd-index items from \n",
    "#     the first list and even index items from the second\n",
    "l1 = [3, 6, 9, 12, 15, 18, 21]\n",
    "l2 = [4, 8, 12, 16, 20, 24, 28]\n",
    "l3 = []\n",
    "\n",
    "for i in range(len(l1)):\n",
    "    if i%2 !=0:\n",
    "        l3.append(l1[i])\n",
    "for j in range(len(l2)):\n",
    "    if j %2 == 0 :\n",
    "        l3.append(l2[j])\n",
    "print(l3)"
   ]
  },
  {
   "cell_type": "code",
   "execution_count": 59,
   "id": "c7379de9",
   "metadata": {},
   "outputs": [
    {
     "name": "stdout",
     "output_type": "stream",
     "text": [
      "remove the item present at index 4 :  11 New list :  [34, 54, 67, 89, 43, 94]\n",
      "add it to the 2nd position :  [34, 54, 11, 67, 89, 43, 94]\n",
      "and at the end of the list:  [34, 54, 11, 67, 89, 43, 94, 11]\n"
     ]
    }
   ],
   "source": [
    "    # Exercise 2: Remove and add item in a list \n",
    "    # Write a program to remove the item present at index 4 and add it to the\n",
    "    # 2nd position and at the end of the list.\n",
    "    \n",
    "list1 = [34, 54, 67, 89, 11, 43, 94]\n",
    "l1 = list1.pop(4)\n",
    "print('remove the item present at index 4 : ',l1,'New list : ',list1)\n",
    "l3 = list1.insert(2,l1)\n",
    "print('add it to the 2nd position : ',list1)\n",
    "list1.append(l1)\n",
    "print('and at the end of the list: ',list1)"
   ]
  },
  {
   "cell_type": "code",
   "execution_count": 108,
   "id": "0948305a",
   "metadata": {},
   "outputs": [
    {
     "name": "stdout",
     "output_type": "stream",
     "text": [
      "lenght 9\n",
      "chunk size 3\n",
      "chunck 0 [11, 45, 8, 23, 14, 12, 78, 45, 89]\n",
      "chunck 1 [11, 45, 8, 23, 14, 12, 78, 45, 89]\n",
      "chunck 2 [11, 45, 8, 23, 14, 12, 78, 45, 89]\n"
     ]
    }
   ],
   "source": [
    "# Exercise 3: Slice list into 3 equal chunks and reverse each chunk\n",
    "l11 = [11, 45, 8, 23, 14, 12, 78, 45, 89]\n",
    "leng= len(l11)\n",
    "print('lenght',leng)\n",
    "chunk_size = int(leng/3)\n",
    "print('chunk size',chunk_size)\n",
    "x =0\n",
    "y= chunk_size\n",
    "for i in range(3):\n",
    "    indexes  = slice(x,y)\n",
    "    li = l11[indexes]\n",
    "    print('chunck',i,l11)\n",
    "    x=y\n",
    "    y=y+chunk_size"
   ]
  },
  {
   "cell_type": "code",
   "execution_count": 80,
   "id": "aa060330",
   "metadata": {},
   "outputs": [
    {
     "name": "stdout",
     "output_type": "stream",
     "text": [
      "{11: 2, 45: 3, 8: 1, 23: 2, 89: 1}\n"
     ]
    }
   ],
   "source": [
    "# Exercise 4: Count the occurrence of each element from a list\n",
    "sample_list = [11, 45, 8, 11, 23, 45, 23, 45, 89]\n",
    "sl ={}\n",
    "for i in sample_list:\n",
    "    if i in sl:\n",
    "        sl[i] =sl[i]+1\n",
    "    else:\n",
    "        sl[i] = 1\n",
    "print(sl)"
   ]
  },
  {
   "cell_type": "code",
   "execution_count": 88,
   "id": "05533ab1",
   "metadata": {},
   "outputs": [
    {
     "name": "stdout",
     "output_type": "stream",
     "text": [
      "{(7, 49), (2, 4), (4, 16), (8, 64), (6, 36), (3, 9), (5, 25)}\n"
     ]
    }
   ],
   "source": [
    "# Exercise 5: Create a Python set such that it shows the element from both lists in a pair\n",
    "first_list = [2, 3, 4, 5, 6, 7, 8]\n",
    "second_list = [4, 9, 16, 25, 36, 49, 64]\n",
    "res= set(zip(first_list,second_list))\n",
    "print(res)"
   ]
  },
  {
   "cell_type": "code",
   "execution_count": 91,
   "id": "34f7d700",
   "metadata": {},
   "outputs": [
    {
     "name": "stdout",
     "output_type": "stream",
     "text": [
      "{57, 83, 29}\n"
     ]
    }
   ],
   "source": [
    "# Exercise 6: Find the intersection (common) of two sets and remove those elements from \n",
    "#     the first set\n",
    "first_set = {23, 42, 65, 57, 78, 83, 29}\n",
    "second_set = {57, 83, 29, 67, 73, 43, 48}\n",
    "s1 = first_set.intersection(second_set)\n",
    "print(s1)"
   ]
  },
  {
   "cell_type": "code",
   "execution_count": 95,
   "id": "66508d24",
   "metadata": {},
   "outputs": [
    {
     "name": "stdout",
     "output_type": "stream",
     "text": [
      "True\n",
      "set()\n"
     ]
    }
   ],
   "source": [
    "#     Exercise 7: Checks if one set is a subset or superset of another set.\n",
    "#     If found, delete all elements from that set\n",
    "first_set = {27, 43, 34}\n",
    "second_set = {34, 93, 22, 27, 43, 53, 48}\n",
    "print(first_set.issubset(second_set))\n",
    "first_set.clear()\n",
    "print(first_set)"
   ]
  },
  {
   "cell_type": "code",
   "execution_count": 110,
   "id": "371d8662",
   "metadata": {},
   "outputs": [
    {
     "name": "stdout",
     "output_type": "stream",
     "text": [
      "[47, 69, 76, 97]\n"
     ]
    }
   ],
   "source": [
    "# Exercise 8: Iterate a given list and check if a given element \n",
    "#     exists as a key’s value in a dictionary. If not, delete it from the list\n",
    "roll_number = [47, 64, 69, 37, 76, 83, 95, 97]\n",
    "sample_dict = {'Jhon':47, 'Emma':69, 'Kelly':76, 'Jason':97}\n",
    "list12 =[]\n",
    "for i in roll_number:\n",
    "    if i in sample_dict.values():\n",
    "        list12.append(i)\n",
    "print(list12)"
   ]
  },
  {
   "cell_type": "code",
   "execution_count": 113,
   "id": "dee37200",
   "metadata": {},
   "outputs": [
    {
     "name": "stdout",
     "output_type": "stream",
     "text": [
      "[47, 52, 44, 53, 54]\n"
     ]
    }
   ],
   "source": [
    "# Exercise 9: Get all values from the dictionary and add them to a list but don’t add duplicates\n",
    "speed = {'jan': 47, 'feb': 52, 'march': 47, 'April': 44, 'May': 52, 'June': 53,\n",
    "         'july': 54, 'Aug': 44, 'Sept': 54}\n",
    "\n",
    "new_list =[]\n",
    "for i in speed.values():\n",
    "    if i not in new_list:\n",
    "        new_list.append(i)\n",
    "        \n",
    "print(new_list)\n"
   ]
  },
  {
   "cell_type": "code",
   "execution_count": 2,
   "id": "7ecde4e8",
   "metadata": {},
   "outputs": [
    {
     "name": "stdout",
     "output_type": "stream",
     "text": [
      "(87, 45, 41, 65, 94, 41, 99, 94)\n",
      "99\n",
      "41\n",
      "[65, 99, 41, 45, 87, 94]\n"
     ]
    }
   ],
   "source": [
    "# Exercise 10: Remove duplicates from a list and create a tuple and \n",
    "# find the minimum and maximum number\n",
    "sample_list = [87, 45, 41, 65, 94, 41, 99, 94]\n",
    "t=tuple(sample_list)\n",
    "print(t)\n",
    "print(max(t))\n",
    "print(min(t))\n",
    "print(list(set(sample_list)))\n",
    "    "
   ]
  },
  {
   "cell_type": "markdown",
   "id": "f6cd5542",
   "metadata": {},
   "source": [
    "## Python Dictionary Exercise with Solutions"
   ]
  },
  {
   "cell_type": "code",
   "execution_count": 7,
   "id": "9f3fc668",
   "metadata": {},
   "outputs": [
    {
     "name": "stdout",
     "output_type": "stream",
     "text": [
      "{'Ten': 10, 'Twenty': 20, 'Thirty': 30}\n",
      "<class 'dict'>\n"
     ]
    }
   ],
   "source": [
    "#     Exercise 1: Convert two lists into a dictionary\n",
    "\n",
    "keys = ['Ten', 'Twenty', 'Thirty']\n",
    "values = [10, 20, 30]\n",
    "d1=dict(zip(keys,values))\n",
    "print(d1)\n",
    "print(type(d1))"
   ]
  },
  {
   "cell_type": "code",
   "execution_count": 11,
   "id": "554ed4be",
   "metadata": {},
   "outputs": [
    {
     "name": "stdout",
     "output_type": "stream",
     "text": [
      "{'Ten': 10, 'Twenty': 20, 'Thirty': 30, 'Fourty': 40, 'Fifty': 50}\n"
     ]
    }
   ],
   "source": [
    "#     Exercise 2: Merge two Python dictionaries into one\n",
    "dict1 = {'Ten': 10, 'Twenty': 20, 'Thirty': 30}\n",
    "dict2 = {'Thirty': 30, 'Fourty': 40, 'Fifty': 50}\n",
    "\n",
    "dict1.update(dict2)\n",
    "print(dict1)"
   ]
  },
  {
   "cell_type": "code",
   "execution_count": 109,
   "id": "6d5eecbe",
   "metadata": {},
   "outputs": [
    {
     "name": "stdout",
     "output_type": "stream",
     "text": [
      "{'class': {'student': {'name': 'Mike', 'marks': {'physics': 70, 'history': 80}}}}\n"
     ]
    }
   ],
   "source": [
    "#     Exercise 3: Print the value of key ‘history’ from the below dict\n",
    "sampleDict = {\n",
    "    \"class\": {\n",
    "        \"student\": {\n",
    "            \"name\": \"Mike\",\n",
    "            \"marks\": {\n",
    "                \"physics\": 70,\n",
    "                \"history\": 80\n",
    "            }\n",
    "        }\n",
    "    }\n",
    "}\n",
    "print(sampleDict)"
   ]
  },
  {
   "cell_type": "code",
   "execution_count": 22,
   "id": "7c33ecd7",
   "metadata": {},
   "outputs": [
    {
     "data": {
      "text/plain": [
       "80"
      ]
     },
     "execution_count": 22,
     "metadata": {},
     "output_type": "execute_result"
    }
   ],
   "source": [
    "sampleDict['class']['student']['marks']['history']"
   ]
  },
  {
   "cell_type": "code",
   "execution_count": 29,
   "id": "fe880ab1",
   "metadata": {},
   "outputs": [
    {
     "name": "stdout",
     "output_type": "stream",
     "text": [
      "{'Kelly': {'designation': 'Developer', 'salary': 8000}, 'Emma': {'designation': 'Developer', 'salary': 8000}}\n"
     ]
    }
   ],
   "source": [
    "#     Exercise 4: Initialize dictionary with default values\n",
    "employees = ['Kelly', 'Emma']\n",
    "defaults = {\"designation\": 'Developer', \"salary\": 8000}\n",
    "d2 = dict()\n",
    "res = dict.fromkeys(employees,defaults)\n",
    "print(res)"
   ]
  },
  {
   "cell_type": "code",
   "execution_count": 111,
   "id": "840d149c",
   "metadata": {},
   "outputs": [
    {
     "name": "stdout",
     "output_type": "stream",
     "text": [
      "{'Kelly': 'designation', 'Emma': 'salary'}\n"
     ]
    }
   ],
   "source": [
    "employees = ['Kelly', 'Emma']\n",
    "defaults = {\"designation\": 'Developer', \"salary\": 8000}\n",
    "d2 = dict()\n",
    "res = dict(zip(employees,defaults))\n",
    "print(res)"
   ]
  },
  {
   "cell_type": "code",
   "execution_count": 119,
   "id": "51877277",
   "metadata": {},
   "outputs": [
    {
     "name": "stdout",
     "output_type": "stream",
     "text": [
      "{'name': 'Kelly', 'age': 25, 'salary': 8000, 'city': 'New york'}\n",
      "{'name': 'Kelly', 'salary': 8000}\n"
     ]
    }
   ],
   "source": [
    "#     Exercise 5: Create a dictionary by extracting the keys from a given dictionary\n",
    "sample_dict = {\n",
    "    \"name\": \"Kelly\",\n",
    "    \"age\": 25,\n",
    "    \"salary\": 8000,\n",
    "    \"city\": \"New york\"}\n",
    "\n",
    "# Keys to extract\n",
    "keys = [\"name\", \"salary\"]\n",
    "print(sample_dict)\n",
    "# res2 = {}\n",
    "# newDict = dict()\n",
    "# for k in keys :\n",
    "#     res2.update({k:sample_dict[k]})\n",
    "# print(res)\n",
    "n_d = {k: sample_dict[k] for k in keys}\n",
    "print(n_d)"
   ]
  },
  {
   "cell_type": "code",
   "execution_count": null,
   "id": "a926470e",
   "metadata": {},
   "outputs": [],
   "source": []
  },
  {
   "cell_type": "code",
   "execution_count": 39,
   "id": "c3e8f024",
   "metadata": {},
   "outputs": [
    {
     "name": "stdout",
     "output_type": "stream",
     "text": [
      "{'name': 'Kelly', 'age': 25, 'salary': 8000, 'city': 'New york'}\n",
      "{'age': 25, 'salary': 8000, 'city': 'New york'}\n"
     ]
    }
   ],
   "source": [
    "#     Exercise 6: Delete a list of keys from a dictionary\n",
    "sample_dict = {\n",
    "    \"name\": \"Kelly\",\n",
    "    \"age\": 25,\n",
    "    \"salary\": 8000,\n",
    "    \"city\": \"New york\"\n",
    "}\n",
    "\n",
    "# Keys to remove\n",
    "keys = [\"name\", \"salary\"]\n",
    "print(sample_dict)\n",
    "sample_dict.pop('name','salary')\n",
    "print(sample_dict)"
   ]
  },
  {
   "cell_type": "code",
   "execution_count": 141,
   "id": "b7742390",
   "metadata": {
    "scrolled": true
   },
   "outputs": [
    {
     "data": {
      "text/plain": [
       "'200 is present'"
      ]
     },
     "execution_count": 141,
     "metadata": {},
     "output_type": "execute_result"
    }
   ],
   "source": [
    "#     Exercise 7: Check if a value exists in a dictionary\n",
    "sample_dict = {'a': 100, 'b': 200, 'c': 300}\n",
    "# n = int(input('enter the value to check : '))\n",
    "def check_number(n):\n",
    "    if 200 in sample_dict.values():\n",
    "        return ('200 is present')\n",
    "\n",
    "    \n",
    "check_number(200)"
   ]
  },
  {
   "cell_type": "code",
   "execution_count": null,
   "id": "436e995a",
   "metadata": {},
   "outputs": [],
   "source": []
  },
  {
   "cell_type": "code",
   "execution_count": 142,
   "id": "b0e9be70",
   "metadata": {},
   "outputs": [
    {
     "name": "stdout",
     "output_type": "stream",
     "text": [
      "{'name': 'Kelly', 'age': 25, 'salary': 8000, 'city': 'New york'}\n",
      "{'name': 'Kelly', 'age': 25, 'salary': 8000, 'location': 'New york'}\n"
     ]
    }
   ],
   "source": [
    "#     Exercise 8: Rename key of a dictionary\n",
    "sample_dict = {\n",
    "  \"name\": \"Kelly\",\n",
    "  \"age\":25,\n",
    "  \"salary\": 8000,\n",
    "  \"city\": \"New york\"\n",
    "}\n",
    "print(sample_dict)\n",
    "\n",
    "sample_dict['location'] = sample_dict['city']\n",
    "sample_dict.pop('city')\n",
    "print(sample_dict)\n"
   ]
  },
  {
   "cell_type": "code",
   "execution_count": 76,
   "id": "204486d7",
   "metadata": {},
   "outputs": [
    {
     "name": "stdout",
     "output_type": "stream",
     "text": [
      "{'Physics': 82, 'Math': 65, 'history': 75}\n",
      "('Math', 65)\n",
      "Math\n"
     ]
    }
   ],
   "source": [
    "#     Exercise 9: Get the key of a minimum value from the following dictionary\n",
    "sample_dict = {\n",
    "  'Physics': 82,\n",
    "  'Math': 65,\n",
    "  'history': 75\n",
    "}\n",
    "print(sample_dict)\n",
    "print(min(sample_dict.items()))\n",
    "print(min(sample_dict, key=sample_dict.get))"
   ]
  },
  {
   "cell_type": "code",
   "execution_count": 78,
   "id": "e4e9cfa4",
   "metadata": {},
   "outputs": [
    {
     "name": "stdout",
     "output_type": "stream",
     "text": [
      "{'emp1': {'name': 'Jhon', 'salary': 7500}, 'emp2': {'name': 'Emma', 'salary': 8000}, 'emp3': {'name': 'Brad', 'salary': 500}}\n",
      "{'emp1': {'name': 'Jhon', 'salary': 7500}, 'emp2': {'name': 'Emma', 'salary': 8000}, 'emp3': {'name': 'Brad', 'salary': 8500}}\n"
     ]
    }
   ],
   "source": [
    "#     Exercise 10: Change value of a key in a nested dictionary\n",
    "sample_dict = {\n",
    "    'emp1': {'name': 'Jhon', 'salary': 7500},\n",
    "    'emp2': {'name': 'Emma', 'salary': 8000},\n",
    "    'emp3': {'name': 'Brad', 'salary': 500}\n",
    "}\n",
    "print(sample_dict)\n",
    "sample_dict['emp3']['salary']=8500\n",
    "print(sample_dict)\n"
   ]
  },
  {
   "cell_type": "markdown",
   "id": "e8006a91",
   "metadata": {},
   "source": [
    "## Python Set Exercise with Solutions"
   ]
  },
  {
   "cell_type": "code",
   "execution_count": 81,
   "id": "d2e6624f",
   "metadata": {},
   "outputs": [
    {
     "name": "stdout",
     "output_type": "stream",
     "text": [
      "{'Green', 'Black', 'Orange', 'Yellow', 'Blue', 'Red'}\n"
     ]
    }
   ],
   "source": [
    "#     Exercise 1: Add a list of elements to a set\n",
    "sample_set = {\"Yellow\", \"Orange\", \"Black\"}\n",
    "sample_list = [\"Blue\", \"Green\", \"Red\"]\n",
    "\n",
    "sample_set.update(sample_list)\n",
    "print(sample_set)"
   ]
  },
  {
   "cell_type": "code",
   "execution_count": 83,
   "id": "e79f5841",
   "metadata": {},
   "outputs": [
    {
     "data": {
      "text/plain": [
       "{30, 40, 50}"
      ]
     },
     "execution_count": 83,
     "metadata": {},
     "output_type": "execute_result"
    }
   ],
   "source": [
    "#     Exercise 2: Return a new set of identical items from two sets\n",
    "set1 = {10, 20, 30, 40, 50}\n",
    "set2 = {30, 40, 50, 60, 70}\n",
    "set1.intersection(set2)"
   ]
  },
  {
   "cell_type": "code",
   "execution_count": 84,
   "id": "c31bd336",
   "metadata": {},
   "outputs": [
    {
     "data": {
      "text/plain": [
       "{10, 20, 30, 40, 50, 60, 70}"
      ]
     },
     "execution_count": 84,
     "metadata": {},
     "output_type": "execute_result"
    }
   ],
   "source": [
    "#     Exercise 3: Get Only unique items from two sets\n",
    "set1 = {10, 20, 30, 40, 50}\n",
    "set2 = {30, 40, 50, 60, 70}\n",
    "set1.union(set2)"
   ]
  },
  {
   "cell_type": "code",
   "execution_count": 96,
   "id": "6eab6178",
   "metadata": {},
   "outputs": [
    {
     "name": "stdout",
     "output_type": "stream",
     "text": [
      "{10, 30}\n"
     ]
    }
   ],
   "source": [
    "#     Exercise 4: Update the first set with items that don’t exist in the second set\n",
    "set1 = {10, 20, 30}\n",
    "set2 = {20, 40, 50}\n",
    "set1.difference_update(set2)\n",
    "print(set1)\n",
    "\n",
    "        \n",
    "        "
   ]
  },
  {
   "cell_type": "code",
   "execution_count": 98,
   "id": "7ae1d941",
   "metadata": {},
   "outputs": [
    {
     "name": "stdout",
     "output_type": "stream",
     "text": [
      "{50, 40}\n"
     ]
    }
   ],
   "source": [
    "#     Exercise 5: Remove items from the set at once\n",
    "set1 = {10, 20, 30, 40, 50}\n",
    "set1.difference_update({10,20,30})\n",
    "print(set1)"
   ]
  },
  {
   "cell_type": "code",
   "execution_count": 145,
   "id": "d25c1402",
   "metadata": {},
   "outputs": [
    {
     "name": "stdout",
     "output_type": "stream",
     "text": [
      "{20, 70, 10, 60}\n",
      "{20, 70, 10, 60}\n"
     ]
    }
   ],
   "source": [
    "#     Exercise 6: Return a set of elements present in Set A or B, but not both\n",
    "seta = {10, 20, 30, 40, 50}\n",
    "setb = {30, 40, 50, 60, 70}\n",
    "\n",
    "a = seta.symmetric_difference(setb)\n",
    "print(a)\n",
    "print(seta.symmetric_difference(setb))"
   ]
  },
  {
   "cell_type": "code",
   "execution_count": 107,
   "id": "d9bfd891",
   "metadata": {},
   "outputs": [
    {
     "name": "stdout",
     "output_type": "stream",
     "text": [
      "Two sets have no items in common\n"
     ]
    }
   ],
   "source": [
    "#     Exercise 7: Check if two sets have any elements in common. If yes, display the common elements\n",
    "set1 = {10, 11, 30, 40, 50}\n",
    "set2 = {60, 70, 80, 90, 15}\n",
    "if set1.isdisjoint(set2):\n",
    "  print(\"Two sets have no items in common\")\n",
    "else:\n",
    "  print(\"Two sets have items in common\")\n",
    "  print(set1.intersection(set2))"
   ]
  },
  {
   "cell_type": "code",
   "execution_count": 114,
   "id": "e5b6ddbd",
   "metadata": {},
   "outputs": [
    {
     "name": "stdout",
     "output_type": "stream",
     "text": [
      "{20, 70, 10, 60}\n"
     ]
    }
   ],
   "source": [
    "#     Exercise 8: Update set1 by adding items from set2, except common items\n",
    "set1 = {10, 20, 30, 40, 50}\n",
    "set2 = {30, 40, 50, 60, 70}\n",
    "set1.symmetric_difference_update(set2)\n",
    "print(set1)"
   ]
  },
  {
   "cell_type": "code",
   "execution_count": 116,
   "id": "06a52384",
   "metadata": {},
   "outputs": [
    {
     "name": "stdout",
     "output_type": "stream",
     "text": [
      "{40, 50, 30}\n"
     ]
    }
   ],
   "source": [
    "#     Exercise 9: Remove items from set1 that are not common to both set1 and set2\n",
    "set1 = {10, 20, 30, 40, 50}\n",
    "set2 = {30, 40, 50, 60, 70}\n",
    "\n",
    "set1.intersection_update(set2)\n",
    "print(set1)"
   ]
  },
  {
   "cell_type": "code",
   "execution_count": 115,
   "id": "337699d0",
   "metadata": {},
   "outputs": [
    {
     "data": {
      "text/plain": [
       "{10, 20, 60, 70}"
      ]
     },
     "execution_count": 115,
     "metadata": {},
     "output_type": "execute_result"
    }
   ],
   "source": []
  },
  {
   "cell_type": "code",
   "execution_count": null,
   "id": "c3e0c939",
   "metadata": {},
   "outputs": [],
   "source": [
    "#     l = len(x)\n",
    "#     l1 = len(y)\n",
    "#     mid = int(l/2)\n",
    "#     mid1 = int(l1/2)\n",
    "#     result = x[mid]+y[mid1]\n",
    "#     lm = x[mid-1]+y[mid1-1]\n",
    "#     result = lm +result \n",
    "#     mr= x[mid+1]+y[mid1+1]\n",
    "#     result = result + mr\n",
    "#     return(result)\n",
    "      # result = x[0]"
   ]
  },
  {
   "cell_type": "code",
   "execution_count": null,
   "id": "0277d167",
   "metadata": {},
   "outputs": [],
   "source": []
  },
  {
   "cell_type": "markdown",
   "id": "34f530af",
   "metadata": {},
   "source": [
    "## List Comprehension Practice Problems"
   ]
  },
  {
   "cell_type": "code",
   "execution_count": 4,
   "id": "1906da15",
   "metadata": {},
   "outputs": [
    {
     "name": "stdout",
     "output_type": "stream",
     "text": [
      "[8, 16, 24, 32, 40, 48, 56, 64, 72, 80, 88, 96, 104, 112, 120, 128, 136, 144, 152, 160, 168, 176, 184, 192, 200, 208, 216, 224, 232, 240, 248, 256, 264, 272, 280, 288, 296, 304, 312, 320, 328, 336, 344, 352, 360, 368, 376, 384, 392, 400, 408, 416, 424, 432, 440, 448, 456, 464, 472, 480, 488, 496, 504, 512, 520, 528, 536, 544, 552, 560, 568, 576, 584, 592, 600, 608, 616, 624, 632, 640, 648, 656, 664, 672, 680, 688, 696, 704, 712, 720, 728, 736, 744, 752, 760, 768, 776, 784, 792, 800, 808, 816, 824, 832, 840, 848, 856, 864, 872, 880, 888, 896, 904, 912, 920, 928, 936, 944, 952, 960, 968, 976, 984, 992, 1000]\n"
     ]
    }
   ],
   "source": [
    "# Q1 Find all of the numbers from 1–1000 that are divisible by 8\n",
    "\n",
    "l= [ i for i in range(1,1001) if i % 8==0]\n",
    "print(l)"
   ]
  },
  {
   "cell_type": "code",
   "execution_count": 8,
   "id": "fe7de52f",
   "metadata": {},
   "outputs": [
    {
     "name": "stdout",
     "output_type": "stream",
     "text": [
      "[6, 16, 26, 36, 46, 56, 60, 61, 62, 63, 64, 65, 66, 67, 68, 69, 76, 86, 96, 106, 116, 126, 136, 146, 156, 160, 161, 162, 163, 164, 165, 166, 167, 168, 169, 176, 186, 196, 206, 216, 226, 236, 246, 256, 260, 261, 262, 263, 264, 265, 266, 267, 268, 269, 276, 286, 296, 306, 316, 326, 336, 346, 356, 360, 361, 362, 363, 364, 365, 366, 367, 368, 369, 376, 386, 396, 406, 416, 426, 436, 446, 456, 460, 461, 462, 463, 464, 465, 466, 467, 468, 469, 476, 486, 496, 506, 516, 526, 536, 546, 556, 560, 561, 562, 563, 564, 565, 566, 567, 568, 569, 576, 586, 596, 600, 601, 602, 603, 604, 605, 606, 607, 608, 609, 610, 611, 612, 613, 614, 615, 616, 617, 618, 619, 620, 621, 622, 623, 624, 625, 626, 627, 628, 629, 630, 631, 632, 633, 634, 635, 636, 637, 638, 639, 640, 641, 642, 643, 644, 645, 646, 647, 648, 649, 650, 651, 652, 653, 654, 655, 656, 657, 658, 659, 660, 661, 662, 663, 664, 665, 666, 667, 668, 669, 670, 671, 672, 673, 674, 675, 676, 677, 678, 679, 680, 681, 682, 683, 684, 685, 686, 687, 688, 689, 690, 691, 692, 693, 694, 695, 696, 697, 698, 699, 706, 716, 726, 736, 746, 756, 760, 761, 762, 763, 764, 765, 766, 767, 768, 769, 776, 786, 796, 806, 816, 826, 836, 846, 856, 860, 861, 862, 863, 864, 865, 866, 867, 868, 869, 876, 886, 896, 906, 916, 926, 936, 946, 956, 960, 961, 962, 963, 964, 965, 966, 967, 968, 969, 976, 986, 996]\n"
     ]
    }
   ],
   "source": [
    "# Q2 Find all of the numbers from 1–1000 that have a 6 in them\n",
    "l1 = [i for i in range(1,1000) if '6' in str(i) ]\n",
    "print(l1)"
   ]
  },
  {
   "cell_type": "code",
   "execution_count": 12,
   "id": "63ac63a4",
   "metadata": {},
   "outputs": [
    {
     "name": "stdout",
     "output_type": "stream",
     "text": [
      "8\n"
     ]
    }
   ],
   "source": [
    "# Q3 Count the number of spaces in a string (use string above)\n",
    "string = \"Practice Problems to Drill List Comprehension in Your Head.\"\n",
    "no_of_s = len([i for i in string if i ==' '])\n",
    "print(no_of_s)"
   ]
  },
  {
   "cell_type": "code",
   "execution_count": 15,
   "id": "0a64737a",
   "metadata": {},
   "outputs": [
    {
     "name": "stdout",
     "output_type": "stream",
     "text": [
      "Prctc Prblms t Drll Lst Cmprhnsn n Yr Hd.\n"
     ]
    }
   ],
   "source": [
    "# Q4 Remove all of the vowels in a string (use string above)\n",
    "string = \"Practice Problems to Drill List Comprehension in Your Head.\"\n",
    "l = ''.join([ i for i in string if i not in [\"a\",\"e\",\"i\",\"o\",\"u\"]])\n",
    "print(l)"
   ]
  },
  {
   "cell_type": "code",
   "execution_count": 20,
   "id": "78809437",
   "metadata": {},
   "outputs": [
    {
     "name": "stdout",
     "output_type": "stream",
     "text": [
      "['to', 'List', 'in', 'Your']\n"
     ]
    }
   ],
   "source": [
    "# Q5  Find all of the words in a string that are less than 5 letters (use string above)\n",
    "string = \"Practice Problems to Drill List Comprehension in Your Head.\"\n",
    "s=string.split()\n",
    "w =[i for i in s if len(i)<5 ]\n",
    "print(w)"
   ]
  },
  {
   "cell_type": "code",
   "execution_count": 25,
   "id": "ef488608",
   "metadata": {},
   "outputs": [
    {
     "name": "stdout",
     "output_type": "stream",
     "text": [
      "{'Practice': 8, 'Problems': 8, 'to': 2, 'Drill': 5, 'List': 4, 'Comprehension': 13, 'in': 2, 'Your': 4, 'Head.': 5}\n"
     ]
    }
   ],
   "source": [
    "# Q6 Use a dictionary comprehension to count the length of each word in a sentence (use string above)\n",
    "string = \"Practice Problems to Drill List Comprehension in Your Head.\"\n",
    "s=string.split()\n",
    "w={k:len(k) for k in s}\n",
    "print(w)"
   ]
  },
  {
   "cell_type": "code",
   "execution_count": 146,
   "id": "a2a23979",
   "metadata": {},
   "outputs": [
    {
     "name": "stdout",
     "output_type": "stream",
     "text": [
      "[2, 3, 4, 5, 6, 7, 8, 9, 10, 12, 14, 15, 16, 18, 20, 21, 22, 24, 25, 26, 27, 28, 30, 32, 33, 34, 35, 36, 38, 39, 40, 42, 44, 45, 46, 48, 49, 50, 51, 52, 54, 55, 56, 57, 58, 60, 62, 63, 64, 65, 66, 68, 69, 70, 72, 74, 75, 76, 77, 78, 80, 81, 82, 84, 85, 86, 87, 88, 90, 91, 92, 93, 94, 95, 96, 98, 99, 100, 102, 104, 105, 106, 108, 110, 111, 112, 114, 115, 116, 117, 118, 119, 120, 122, 123, 124, 125, 126, 128, 129, 130, 132, 133, 134, 135, 136, 138, 140, 141, 142, 144, 145, 146, 147, 148, 150, 152, 153, 154, 155, 156, 158, 159, 160, 161, 162, 164, 165, 166, 168, 170, 171, 172, 174, 175, 176, 177, 178, 180, 182, 183, 184, 185, 186, 188, 189, 190, 192, 194, 195, 196, 198, 200, 201, 202, 203, 204, 205, 206, 207, 208, 210, 212, 213, 214, 215, 216, 217, 218, 219, 220, 222, 224, 225, 226, 228, 230, 231, 232, 234, 235, 236, 237, 238, 240, 242, 243, 244, 245, 246, 248, 249, 250, 252, 254, 255, 256, 258, 259, 260, 261, 262, 264, 265, 266, 267, 268, 270, 272, 273, 274, 275, 276, 278, 279, 280, 282, 284, 285, 286, 287, 288, 290, 291, 292, 294, 295, 296, 297, 298, 300, 301, 302, 303, 304, 305, 306, 308, 309, 310, 312, 314, 315, 316, 318, 320, 321, 322, 324, 325, 326, 327, 328, 329, 330, 332, 333, 334, 335, 336, 338, 339, 340, 342, 343, 344, 345, 346, 348, 350, 351, 352, 354, 355, 356, 357, 358, 360, 362, 363, 364, 365, 366, 368, 369, 370, 371, 372, 374, 375, 376, 378, 380, 381, 382, 384, 385, 386, 387, 388, 390, 392, 393, 394, 395, 396, 398, 399, 400, 402, 404, 405, 406, 408, 410, 411, 412, 413, 414, 415, 416, 417, 418, 420, 422, 423, 424, 425, 426, 427, 428, 429, 430, 432, 434, 435, 436, 438, 440, 441, 442, 444, 445, 446, 447, 448, 450, 452, 453, 454, 455, 456, 458, 459, 460, 462, 464, 465, 466, 468, 469, 470, 471, 472, 474, 475, 476, 477, 478, 480, 482, 483, 484, 485, 486, 488, 489, 490, 492, 494, 495, 496, 497, 498, 500, 501, 502, 504, 505, 506, 507, 508, 510, 511, 512, 513, 514, 515, 516, 518, 519, 520, 522, 524, 525, 526, 528, 530, 531, 532, 534, 535, 536, 537, 538, 539, 540, 542, 543, 544, 545, 546, 548, 549, 550, 552, 553, 554, 555, 556, 558, 560, 561, 562, 564, 565, 566, 567, 568, 570, 572, 573, 574, 575, 576, 578, 579, 580, 581, 582, 584, 585, 586, 588, 590, 591, 592, 594, 595, 596, 597, 598, 600, 602, 603, 604, 605, 606, 608, 609, 610, 612, 614, 615, 616, 618, 620, 621, 622, 623, 624, 625, 626, 627, 628, 630, 632, 633, 634, 635, 636, 637, 638, 639, 640, 642, 644, 645, 646, 648, 650, 651, 652, 654, 655, 656, 657, 658, 660, 662, 663, 664, 665, 666, 668, 669, 670, 672, 674, 675, 676, 678, 679, 680, 681, 682, 684, 685, 686, 687, 688, 690, 692, 693, 694, 695, 696, 698, 699, 700, 702, 704, 705, 706, 707, 708, 710, 711, 712, 714, 715, 716, 717, 718, 720, 721, 722, 723, 724, 725, 726, 728, 729, 730, 732, 734, 735, 736, 738, 740, 741, 742, 744, 745, 746, 747, 748, 749, 750, 752, 753, 754, 755, 756, 758, 759, 760, 762, 763, 764, 765, 766, 768, 770, 771, 772, 774, 775, 776, 777, 778, 780, 782, 783, 784, 785, 786, 788, 789, 790, 791, 792, 794, 795, 796, 798, 800, 801, 802, 804, 805, 806, 807, 808, 810, 812, 813, 814, 815, 816, 818, 819, 820, 822, 824, 825, 826, 828, 830, 831, 832, 833, 834, 835, 836, 837, 838, 840, 842, 843, 844, 845, 846, 847, 848, 849, 850, 852, 854, 855, 856, 858, 860, 861, 862, 864, 865, 866, 867, 868, 870, 872, 873, 874, 875, 876, 878, 879, 880, 882, 884, 885, 886, 888, 889, 890, 891, 892, 894, 895, 896, 897, 898, 900, 902, 903, 904, 905, 906, 908, 909, 910, 912, 914, 915, 916, 917, 918, 920, 921, 922, 924, 925, 926, 927, 928, 930, 931, 932, 933, 934, 935, 936, 938, 939, 940, 942, 944, 945, 946, 948, 950, 951, 952, 954, 955, 956, 957, 958, 959, 960, 962, 963, 964, 965, 966, 968, 969, 970, 972, 973, 974, 975, 976, 978, 980, 981, 982, 984, 985, 986, 987, 988, 990, 992, 993, 994, 995, 996, 998, 999]\n"
     ]
    }
   ],
   "source": [
    "# Q7 Use a nested list comprehension to find all of the numbers from 1–1000 that are divisible by \n",
    "#    any single digit besides 1 (2–9)\n",
    "\n",
    "l=[i for i in range(1,1000) if True in [True for j in range(2,10) if i%j == 0]]\n",
    "print(l)"
   ]
  },
  {
   "cell_type": "code",
   "execution_count": 148,
   "id": "86ca44a5",
   "metadata": {},
   "outputs": [
    {
     "name": "stdout",
     "output_type": "stream",
     "text": [
      "[2, 3, 4, 5, 6, 7, 8, 9, 10, 12, 14, 15, 16, 18, 20, 21, 22, 24, 25, 26, 27, 28, 30, 32, 33, 34, 35, 36, 38, 39, 40, 42, 44, 45, 46, 48, 49, 50, 51, 52, 54, 55, 56, 57, 58, 60, 62, 63, 64, 65, 66, 68, 69, 70, 72, 74, 75, 76, 77, 78, 80, 81, 82, 84, 85, 86, 87, 88, 90, 91, 92, 93, 94, 95, 96, 98, 99, 100, 102, 104, 105, 106, 108, 110, 111, 112, 114, 115, 116, 117, 118, 119, 120, 122, 123, 124, 125, 126, 128, 129, 130, 132, 133, 134, 135, 136, 138, 140, 141, 142, 144, 145, 146, 147, 148, 150, 152, 153, 154, 155, 156, 158, 159, 160, 161, 162, 164, 165, 166, 168, 170, 171, 172, 174, 175, 176, 177, 178, 180, 182, 183, 184, 185, 186, 188, 189, 190, 192, 194, 195, 196, 198, 200, 201, 202, 203, 204, 205, 206, 207, 208, 210, 212, 213, 214, 215, 216, 217, 218, 219, 220, 222, 224, 225, 226, 228, 230, 231, 232, 234, 235, 236, 237, 238, 240, 242, 243, 244, 245, 246, 248, 249, 250, 252, 254, 255, 256, 258, 259, 260, 261, 262, 264, 265, 266, 267, 268, 270, 272, 273, 274, 275, 276, 278, 279, 280, 282, 284, 285, 286, 287, 288, 290, 291, 292, 294, 295, 296, 297, 298, 300, 301, 302, 303, 304, 305, 306, 308, 309, 310, 312, 314, 315, 316, 318, 320, 321, 322, 324, 325, 326, 327, 328, 329, 330, 332, 333, 334, 335, 336, 338, 339, 340, 342, 343, 344, 345, 346, 348, 350, 351, 352, 354, 355, 356, 357, 358, 360, 362, 363, 364, 365, 366, 368, 369, 370, 371, 372, 374, 375, 376, 378, 380, 381, 382, 384, 385, 386, 387, 388, 390, 392, 393, 394, 395, 396, 398, 399, 400, 402, 404, 405, 406, 408, 410, 411, 412, 413, 414, 415, 416, 417, 418, 420, 422, 423, 424, 425, 426, 427, 428, 429, 430, 432, 434, 435, 436, 438, 440, 441, 442, 444, 445, 446, 447, 448, 450, 452, 453, 454, 455, 456, 458, 459, 460, 462, 464, 465, 466, 468, 469, 470, 471, 472, 474, 475, 476, 477, 478, 480, 482, 483, 484, 485, 486, 488, 489, 490, 492, 494, 495, 496, 497, 498, 500, 501, 502, 504, 505, 506, 507, 508, 510, 511, 512, 513, 514, 515, 516, 518, 519, 520, 522, 524, 525, 526, 528, 530, 531, 532, 534, 535, 536, 537, 538, 539, 540, 542, 543, 544, 545, 546, 548, 549, 550, 552, 553, 554, 555, 556, 558, 560, 561, 562, 564, 565, 566, 567, 568, 570, 572, 573, 574, 575, 576, 578, 579, 580, 581, 582, 584, 585, 586, 588, 590, 591, 592, 594, 595, 596, 597, 598, 600, 602, 603, 604, 605, 606, 608, 609, 610, 612, 614, 615, 616, 618, 620, 621, 622, 623, 624, 625, 626, 627, 628, 630, 632, 633, 634, 635, 636, 637, 638, 639, 640, 642, 644, 645, 646, 648, 650, 651, 652, 654, 655, 656, 657, 658, 660, 662, 663, 664, 665, 666, 668, 669, 670, 672, 674, 675, 676, 678, 679, 680, 681, 682, 684, 685, 686, 687, 688, 690, 692, 693, 694, 695, 696, 698, 699, 700, 702, 704, 705, 706, 707, 708, 710, 711, 712, 714, 715, 716, 717, 718, 720, 721, 722, 723, 724, 725, 726, 728, 729, 730, 732, 734, 735, 736, 738, 740, 741, 742, 744, 745, 746, 747, 748, 749, 750, 752, 753, 754, 755, 756, 758, 759, 760, 762, 763, 764, 765, 766, 768, 770, 771, 772, 774, 775, 776, 777, 778, 780, 782, 783, 784, 785, 786, 788, 789, 790, 791, 792, 794, 795, 796, 798, 800, 801, 802, 804, 805, 806, 807, 808, 810, 812, 813, 814, 815, 816, 818, 819, 820, 822, 824, 825, 826, 828, 830, 831, 832, 833, 834, 835, 836, 837, 838, 840, 842, 843, 844, 845, 846, 847, 848, 849, 850, 852, 854, 855, 856, 858, 860, 861, 862, 864, 865, 866, 867, 868, 870, 872, 873, 874, 875, 876, 878, 879, 880, 882, 884, 885, 886, 888, 889, 890, 891, 892, 894, 895, 896, 897, 898, 900, 902, 903, 904, 905, 906, 908, 909, 910, 912, 914, 915, 916, 917, 918, 920, 921, 922, 924, 925, 926, 927, 928, 930, 931, 932, 933, 934, 935, 936, 938, 939, 940, 942, 944, 945, 946, 948, 950, 951, 952, 954, 955, 956, 957, 958, 959, 960, 962, 963, 964, 965, 966, 968, 969, 970, 972, 973, 974, 975, 976, 978, 980, 981, 982, 984, 985, 986, 987, 988, 990, 992, 993, 994, 995, 996, 998, 999]\n"
     ]
    }
   ],
   "source": [
    "q7_answer = [num for num in range(1,1000) if True in [True for divisor in range(2,10) if num % divisor == 0]]\n",
    "print(q7_answer)"
   ]
  },
  {
   "cell_type": "code",
   "execution_count": 149,
   "id": "44aaa447",
   "metadata": {},
   "outputs": [
    {
     "name": "stdout",
     "output_type": "stream",
     "text": [
      "{1: 1, 2: 2, 3: 3, 4: 4, 5: 5, 6: 6, 7: 7, 8: 8, 9: 9, 10: 5, 11: 1, 12: 6, 13: 1, 14: 7, 15: 5, 16: 8, 17: 1, 18: 9, 19: 1, 20: 5, 21: 7, 22: 2, 23: 1, 24: 8, 25: 5, 26: 2, 27: 9, 28: 7, 29: 1, 30: 6, 31: 1, 32: 8, 33: 3, 34: 2, 35: 7, 36: 9, 37: 1, 38: 2, 39: 3, 40: 8, 41: 1, 42: 7, 43: 1, 44: 4, 45: 9, 46: 2, 47: 1, 48: 8, 49: 7, 50: 5, 51: 3, 52: 4, 53: 1, 54: 9, 55: 5, 56: 8, 57: 3, 58: 2, 59: 1, 60: 6, 61: 1, 62: 2, 63: 9, 64: 8, 65: 5, 66: 6, 67: 1, 68: 4, 69: 3, 70: 7, 71: 1, 72: 9, 73: 1, 74: 2, 75: 5, 76: 4, 77: 7, 78: 6, 79: 1, 80: 8, 81: 9, 82: 2, 83: 1, 84: 7, 85: 5, 86: 2, 87: 3, 88: 8, 89: 1, 90: 9, 91: 7, 92: 4, 93: 3, 94: 2, 95: 5, 96: 8, 97: 1, 98: 7, 99: 9, 100: 5, 101: 1, 102: 6, 103: 1, 104: 8, 105: 7, 106: 2, 107: 1, 108: 9, 109: 1, 110: 5, 111: 3, 112: 8, 113: 1, 114: 6, 115: 5, 116: 4, 117: 9, 118: 2, 119: 7, 120: 8, 121: 1, 122: 2, 123: 3, 124: 4, 125: 5, 126: 9, 127: 1, 128: 8, 129: 3, 130: 5, 131: 1, 132: 6, 133: 7, 134: 2, 135: 9, 136: 8, 137: 1, 138: 6, 139: 1, 140: 7, 141: 3, 142: 2, 143: 1, 144: 9, 145: 5, 146: 2, 147: 7, 148: 4, 149: 1, 150: 6, 151: 1, 152: 8, 153: 9, 154: 7, 155: 5, 156: 6, 157: 1, 158: 2, 159: 3, 160: 8, 161: 7, 162: 9, 163: 1, 164: 4, 165: 5, 166: 2, 167: 1, 168: 8, 169: 1, 170: 5, 171: 9, 172: 4, 173: 1, 174: 6, 175: 7, 176: 8, 177: 3, 178: 2, 179: 1, 180: 9, 181: 1, 182: 7, 183: 3, 184: 8, 185: 5, 186: 6, 187: 1, 188: 4, 189: 9, 190: 5, 191: 1, 192: 8, 193: 1, 194: 2, 195: 5, 196: 7, 197: 1, 198: 9, 199: 1, 200: 8, 201: 3, 202: 2, 203: 7, 204: 6, 205: 5, 206: 2, 207: 9, 208: 8, 209: 1, 210: 7, 211: 1, 212: 4, 213: 3, 214: 2, 215: 5, 216: 9, 217: 7, 218: 2, 219: 3, 220: 5, 221: 1, 222: 6, 223: 1, 224: 8, 225: 9, 226: 2, 227: 1, 228: 6, 229: 1, 230: 5, 231: 7, 232: 8, 233: 1, 234: 9, 235: 5, 236: 4, 237: 3, 238: 7, 239: 1, 240: 8, 241: 1, 242: 2, 243: 9, 244: 4, 245: 7, 246: 6, 247: 1, 248: 8, 249: 3, 250: 5, 251: 1, 252: 9, 253: 1, 254: 2, 255: 5, 256: 8, 257: 1, 258: 6, 259: 7, 260: 5, 261: 9, 262: 2, 263: 1, 264: 8, 265: 5, 266: 7, 267: 3, 268: 4, 269: 1, 270: 9, 271: 1, 272: 8, 273: 7, 274: 2, 275: 5, 276: 6, 277: 1, 278: 2, 279: 9, 280: 8, 281: 1, 282: 6, 283: 1, 284: 4, 285: 5, 286: 2, 287: 7, 288: 9, 289: 1, 290: 5, 291: 3, 292: 4, 293: 1, 294: 7, 295: 5, 296: 8, 297: 9, 298: 2, 299: 1, 300: 6, 301: 7, 302: 2, 303: 3, 304: 8, 305: 5, 306: 9, 307: 1, 308: 7, 309: 3, 310: 5, 311: 1, 312: 8, 313: 1, 314: 2, 315: 9, 316: 4, 317: 1, 318: 6, 319: 1, 320: 8, 321: 3, 322: 7, 323: 1, 324: 9, 325: 5, 326: 2, 327: 3, 328: 8, 329: 7, 330: 6, 331: 1, 332: 4, 333: 9, 334: 2, 335: 5, 336: 8, 337: 1, 338: 2, 339: 3, 340: 5, 341: 1, 342: 9, 343: 7, 344: 8, 345: 5, 346: 2, 347: 1, 348: 6, 349: 1, 350: 7, 351: 9, 352: 8, 353: 1, 354: 6, 355: 5, 356: 4, 357: 7, 358: 2, 359: 1, 360: 9, 361: 1, 362: 2, 363: 3, 364: 7, 365: 5, 366: 6, 367: 1, 368: 8, 369: 9, 370: 5, 371: 7, 372: 6, 373: 1, 374: 2, 375: 5, 376: 8, 377: 1, 378: 9, 379: 1, 380: 5, 381: 3, 382: 2, 383: 1, 384: 8, 385: 7, 386: 2, 387: 9, 388: 4, 389: 1, 390: 6, 391: 1, 392: 8, 393: 3, 394: 2, 395: 5, 396: 9, 397: 1, 398: 2, 399: 7, 400: 8, 401: 1, 402: 6, 403: 1, 404: 4, 405: 9, 406: 7, 407: 1, 408: 8, 409: 1, 410: 5, 411: 3, 412: 4, 413: 7, 414: 9, 415: 5, 416: 8, 417: 3, 418: 2, 419: 1, 420: 7, 421: 1, 422: 2, 423: 9, 424: 8, 425: 5, 426: 6, 427: 7, 428: 4, 429: 3, 430: 5, 431: 1, 432: 9, 433: 1, 434: 7, 435: 5, 436: 4, 437: 1, 438: 6, 439: 1, 440: 8, 441: 9, 442: 2, 443: 1, 444: 6, 445: 5, 446: 2, 447: 3, 448: 8, 449: 1, 450: 9, 451: 1, 452: 4, 453: 3, 454: 2, 455: 7, 456: 8, 457: 1, 458: 2, 459: 9, 460: 5, 461: 1, 462: 7, 463: 1, 464: 8, 465: 5, 466: 2, 467: 1, 468: 9, 469: 7, 470: 5, 471: 3, 472: 8, 473: 1, 474: 6, 475: 5, 476: 7, 477: 9, 478: 2, 479: 1, 480: 8, 481: 1, 482: 2, 483: 7, 484: 4, 485: 5, 486: 9, 487: 1, 488: 8, 489: 3, 490: 7, 491: 1, 492: 6, 493: 1, 494: 2, 495: 9, 496: 8, 497: 7, 498: 6, 499: 1, 500: 5, 501: 3, 502: 2, 503: 1, 504: 9, 505: 5, 506: 2, 507: 3, 508: 4, 509: 1, 510: 6, 511: 7, 512: 8, 513: 9, 514: 2, 515: 5, 516: 6, 517: 1, 518: 7, 519: 3, 520: 8, 521: 1, 522: 9, 523: 1, 524: 4, 525: 7, 526: 2, 527: 1, 528: 8, 529: 1, 530: 5, 531: 9, 532: 7, 533: 1, 534: 6, 535: 5, 536: 8, 537: 3, 538: 2, 539: 7, 540: 9, 541: 1, 542: 2, 543: 3, 544: 8, 545: 5, 546: 7, 547: 1, 548: 4, 549: 9, 550: 5, 551: 1, 552: 8, 553: 7, 554: 2, 555: 5, 556: 4, 557: 1, 558: 9, 559: 1, 560: 8, 561: 3, 562: 2, 563: 1, 564: 6, 565: 5, 566: 2, 567: 9, 568: 8, 569: 1, 570: 6, 571: 1, 572: 4, 573: 3, 574: 7, 575: 5, 576: 9, 577: 1, 578: 2, 579: 3, 580: 5, 581: 7, 582: 6, 583: 1, 584: 8, 585: 9, 586: 2, 587: 1, 588: 7, 589: 1, 590: 5, 591: 3, 592: 8, 593: 1, 594: 9, 595: 7, 596: 4, 597: 3, 598: 2, 599: 1, 600: 8, 601: 1, 602: 7, 603: 9, 604: 4, 605: 5, 606: 6, 607: 1, 608: 8, 609: 7, 610: 5, 611: 1, 612: 9, 613: 1, 614: 2, 615: 5, 616: 8, 617: 1, 618: 6, 619: 1, 620: 5, 621: 9, 622: 2, 623: 7, 624: 8, 625: 5, 626: 2, 627: 3, 628: 4, 629: 1, 630: 9, 631: 1, 632: 8, 633: 3, 634: 2, 635: 5, 636: 6, 637: 7, 638: 2, 639: 9, 640: 8, 641: 1, 642: 6, 643: 1, 644: 7, 645: 5, 646: 2, 647: 1, 648: 9, 649: 1, 650: 5, 651: 7, 652: 4, 653: 1, 654: 6, 655: 5, 656: 8, 657: 9, 658: 7, 659: 1, 660: 6, 661: 1, 662: 2, 663: 3, 664: 8, 665: 7, 666: 9, 667: 1, 668: 4, 669: 3, 670: 5, 671: 1, 672: 8, 673: 1, 674: 2, 675: 9, 676: 4, 677: 1, 678: 6, 679: 7, 680: 8, 681: 3, 682: 2, 683: 1, 684: 9, 685: 5, 686: 7, 687: 3, 688: 8, 689: 1, 690: 6, 691: 1, 692: 4, 693: 9, 694: 2, 695: 5, 696: 8, 697: 1, 698: 2, 699: 3, 700: 7, 701: 1, 702: 9, 703: 1, 704: 8, 705: 5, 706: 2, 707: 7, 708: 6, 709: 1, 710: 5, 711: 9, 712: 8, 713: 1, 714: 7, 715: 5, 716: 4, 717: 3, 718: 2, 719: 1, 720: 9, 721: 7, 722: 2, 723: 3, 724: 4, 725: 5, 726: 6, 727: 1, 728: 8, 729: 9, 730: 5, 731: 1, 732: 6, 733: 1, 734: 2, 735: 7, 736: 8, 737: 1, 738: 9, 739: 1, 740: 5, 741: 3, 742: 7, 743: 1, 744: 8, 745: 5, 746: 2, 747: 9, 748: 4, 749: 7, 750: 6, 751: 1, 752: 8, 753: 3, 754: 2, 755: 5, 756: 9, 757: 1, 758: 2, 759: 3, 760: 8, 761: 1, 762: 6, 763: 7, 764: 4, 765: 9, 766: 2, 767: 1, 768: 8, 769: 1, 770: 7, 771: 3, 772: 4, 773: 1, 774: 9, 775: 5, 776: 8, 777: 7, 778: 2, 779: 1, 780: 6, 781: 1, 782: 2, 783: 9, 784: 8, 785: 5, 786: 6, 787: 1, 788: 4, 789: 3, 790: 5, 791: 7, 792: 9, 793: 1, 794: 2, 795: 5, 796: 4, 797: 1, 798: 7, 799: 1, 800: 8, 801: 9, 802: 2, 803: 1, 804: 6, 805: 7, 806: 2, 807: 3, 808: 8, 809: 1, 810: 9, 811: 1, 812: 7, 813: 3, 814: 2, 815: 5, 816: 8, 817: 1, 818: 2, 819: 9, 820: 5, 821: 1, 822: 6, 823: 1, 824: 8, 825: 5, 826: 7, 827: 1, 828: 9, 829: 1, 830: 5, 831: 3, 832: 8, 833: 7, 834: 6, 835: 5, 836: 4, 837: 9, 838: 2, 839: 1, 840: 8, 841: 1, 842: 2, 843: 3, 844: 4, 845: 5, 846: 9, 847: 7, 848: 8, 849: 3, 850: 5, 851: 1, 852: 6, 853: 1, 854: 7, 855: 9, 856: 8, 857: 1, 858: 6, 859: 1, 860: 5, 861: 7, 862: 2, 863: 1, 864: 9, 865: 5, 866: 2, 867: 3, 868: 7, 869: 1, 870: 6, 871: 1, 872: 8, 873: 9, 874: 2, 875: 7, 876: 6, 877: 1, 878: 2, 879: 3, 880: 8, 881: 1, 882: 9, 883: 1, 884: 4, 885: 5, 886: 2, 887: 1, 888: 8, 889: 7, 890: 5, 891: 9, 892: 4, 893: 1, 894: 6, 895: 5, 896: 8, 897: 3, 898: 2, 899: 1, 900: 9, 901: 1, 902: 2, 903: 7, 904: 8, 905: 5, 906: 6, 907: 1, 908: 4, 909: 9, 910: 7, 911: 1, 912: 8, 913: 1, 914: 2, 915: 5, 916: 4, 917: 7, 918: 9, 919: 1, 920: 8, 921: 3, 922: 2, 923: 1, 924: 7, 925: 5, 926: 2, 927: 9, 928: 8, 929: 1, 930: 6, 931: 7, 932: 4, 933: 3, 934: 2, 935: 5, 936: 9, 937: 1, 938: 7, 939: 3, 940: 5, 941: 1, 942: 6, 943: 1, 944: 8, 945: 9, 946: 2, 947: 1, 948: 6, 949: 1, 950: 5, 951: 3, 952: 8, 953: 1, 954: 9, 955: 5, 956: 4, 957: 3, 958: 2, 959: 7, 960: 8, 961: 1, 962: 2, 963: 9, 964: 4, 965: 5, 966: 7, 967: 1, 968: 8, 969: 3, 970: 5, 971: 1, 972: 9, 973: 7, 974: 2, 975: 5, 976: 8, 977: 1, 978: 6, 979: 1, 980: 7, 981: 9, 982: 2, 983: 1, 984: 8, 985: 5, 986: 2, 987: 7, 988: 4, 989: 1, 990: 9, 991: 1, 992: 8, 993: 3, 994: 7, 995: 5, 996: 6, 997: 1, 998: 2, 999: 9}\n"
     ]
    }
   ],
   "source": [
    "# Q8For all the numbers 1–1000, use a nested list/dictionary comprehension to find the highest single\n",
    "# digit any of the numbers is divisible by\n",
    "# q8_answer = {num:max([divisor for divisor in range(1,10) if num % divisor == 0]) for num in nums}\n",
    "\n",
    "l = {i:max(j for j in range(1,10) if i%j == 0)for i in range(1,1000)}\n",
    "print(l)"
   ]
  },
  {
   "cell_type": "code",
   "execution_count": 21,
   "id": "028253a1",
   "metadata": {},
   "outputs": [
    {
     "name": "stdout",
     "output_type": "stream",
     "text": [
      "Printing Original array\n",
      "[[34 43 73]\n",
      " [82 22 12]\n",
      " [53 94 66]]\n",
      "Array after deleting column 2 on axis 1\n",
      "[[34 73]\n",
      " [82 12]\n",
      " [53 66]]\n",
      "Array after inserting column 2 on axis 1\n",
      "[[34 10 73]\n",
      " [82 10 12]\n",
      " [53 10 66]]\n"
     ]
    }
   ],
   "source": [
    "import numpy\n",
    "\n",
    "print(\"Printing Original array\")\n",
    "sampleArray = numpy.array([[34,43,73],[82,22,12],[53,94,66]]) \n",
    "print (sampleArray)\n",
    "\n",
    "print(\"Array after deleting column 2 on axis 1\")\n",
    "sampleArray = numpy.delete(sampleArray , 1, axis = 1) \n",
    "print (sampleArray)\n",
    "\n",
    "arr = numpy.array([[10,10,10]])\n",
    "\n",
    "print(\"Array after inserting column 2 on axis 1\")\n",
    "sampleArray = numpy.insert(sampleArray , 1, arr, axis = 1) \n",
    "print (sampleArray)"
   ]
  }
 ],
 "metadata": {
  "kernelspec": {
   "display_name": "Python 3 (ipykernel)",
   "language": "python",
   "name": "python3"
  },
  "language_info": {
   "codemirror_mode": {
    "name": "ipython",
    "version": 3
   },
   "file_extension": ".py",
   "mimetype": "text/x-python",
   "name": "python",
   "nbconvert_exporter": "python",
   "pygments_lexer": "ipython3",
   "version": "3.9.12"
  }
 },
 "nbformat": 4,
 "nbformat_minor": 5
}
